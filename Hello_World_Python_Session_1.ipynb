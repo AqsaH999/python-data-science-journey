{
  "nbformat": 4,
  "nbformat_minor": 0,
  "metadata": {
    "colab": {
      "provenance": [],
      "authorship_tag": "ABX9TyMqc9P5A58xOOBBtOILII4b",
      "include_colab_link": true
    },
    "kernelspec": {
      "name": "python3",
      "display_name": "Python 3"
    },
    "language_info": {
      "name": "python"
    }
  },
  "cells": [
    {
      "cell_type": "markdown",
      "metadata": {
        "id": "view-in-github",
        "colab_type": "text"
      },
      "source": [
        "<a href=\"https://colab.research.google.com/github/AqsaH999/python-data-science-journey/blob/main/Hello_World_Python_Session_1.ipynb\" target=\"_parent\"><img src=\"https://colab.research.google.com/assets/colab-badge.svg\" alt=\"Open In Colab\"/></a>"
      ]
    },
    {
      "cell_type": "markdown",
      "source": [
        "# **1. Python Output - how to print using python**"
      ],
      "metadata": {
        "id": "WvYxVu9EFfgi"
      }
    },
    {
      "cell_type": "code",
      "execution_count": null,
      "metadata": {
        "colab": {
          "base_uri": "https://localhost:8080/"
        },
        "id": "WvkW9c2nFAVM",
        "outputId": "16369c21-fa86-46ad-c12c-0e81c40d5737"
      },
      "outputs": [
        {
          "output_type": "stream",
          "name": "stdout",
          "text": [
            "Hello! World\n"
          ]
        }
      ],
      "source": [
        "# python is a case sensitive language\n",
        "print('Hello! World')"
      ]
    },
    {
      "cell_type": "code",
      "source": [
        "print('Aqsa Hamdani')"
      ],
      "metadata": {
        "colab": {
          "base_uri": "https://localhost:8080/"
        },
        "id": "qHkVRb0TGcIs",
        "outputId": "3ec420be-13f0-48ff-c071-dddfd88fd02e"
      },
      "execution_count": null,
      "outputs": [
        {
          "output_type": "stream",
          "name": "stdout",
          "text": [
            "Aqsa Hamdani\n"
          ]
        }
      ]
    },
    {
      "cell_type": "code",
      "source": [
        "#py print fnc doesn't print without quotes\n",
        "print(salman)"
      ],
      "metadata": {
        "collapsed": true,
        "colab": {
          "base_uri": "https://localhost:8080/",
          "height": 139
        },
        "id": "AE_zV_DcGoH1",
        "outputId": "ace4730e-1070-4170-e01e-77e02e36e451"
      },
      "execution_count": null,
      "outputs": [
        {
          "output_type": "error",
          "ename": "NameError",
          "evalue": "name 'salman' is not defined",
          "traceback": [
            "\u001b[0;31m---------------------------------------------------------------------------\u001b[0m",
            "\u001b[0;31mNameError\u001b[0m                                 Traceback (most recent call last)",
            "\u001b[0;32m/tmp/ipython-input-112999572.py\u001b[0m in \u001b[0;36m<cell line: 0>\u001b[0;34m()\u001b[0m\n\u001b[0;32m----> 1\u001b[0;31m \u001b[0mprint\u001b[0m\u001b[0;34m(\u001b[0m\u001b[0msalman\u001b[0m\u001b[0;34m)\u001b[0m\u001b[0;34m\u001b[0m\u001b[0;34m\u001b[0m\u001b[0m\n\u001b[0m",
            "\u001b[0;31mNameError\u001b[0m: name 'salman' is not defined"
          ]
        }
      ]
    },
    {
      "cell_type": "code",
      "source": [
        "print(7)"
      ],
      "metadata": {
        "colab": {
          "base_uri": "https://localhost:8080/"
        },
        "id": "N07h9uqQGrgs",
        "outputId": "8672de9b-02fd-4cdc-fe6f-611b953f09a4"
      },
      "execution_count": null,
      "outputs": [
        {
          "output_type": "stream",
          "name": "stdout",
          "text": [
            "7\n"
          ]
        }
      ]
    },
    {
      "cell_type": "code",
      "source": [
        "print(1.554)"
      ],
      "metadata": {
        "colab": {
          "base_uri": "https://localhost:8080/"
        },
        "id": "8bOhfnvZGtz6",
        "outputId": "3e03670e-d2c8-41bd-811f-d778685b1701"
      },
      "execution_count": null,
      "outputs": [
        {
          "output_type": "stream",
          "name": "stdout",
          "text": [
            "1.554\n"
          ]
        }
      ]
    },
    {
      "cell_type": "code",
      "source": [
        "print(0)"
      ],
      "metadata": {
        "id": "c_eEPLAeGwuo",
        "colab": {
          "base_uri": "https://localhost:8080/"
        },
        "outputId": "ad39be87-cc36-4c22-b0c0-fe3a921251b1"
      },
      "execution_count": 6,
      "outputs": [
        {
          "output_type": "stream",
          "name": "stdout",
          "text": [
            "0\n"
          ]
        }
      ]
    },
    {
      "cell_type": "code",
      "source": [
        "# multiple print in pythons print function , very powerful\n",
        "print('Hello',1,4.5,9,True)"
      ],
      "metadata": {
        "colab": {
          "base_uri": "https://localhost:8080/"
        },
        "id": "ykb82UitG2-C",
        "outputId": "677ba80e-c47b-433d-918e-d438394031f2"
      },
      "execution_count": null,
      "outputs": [
        {
          "output_type": "stream",
          "name": "stdout",
          "text": [
            "Hello 1 4.5 9 True\n"
          ]
        }
      ]
    },
    {
      "cell_type": "code",
      "source": [
        "# Overwriting the sep='' to change the output\n",
        "print('Hello',1,4.5,9,True,sep='/')"
      ],
      "metadata": {
        "colab": {
          "base_uri": "https://localhost:8080/"
        },
        "id": "q1rPcdfqHMcO",
        "outputId": "0a2ce349-a72d-4981-be0e-afaeb06a77d2"
      },
      "execution_count": null,
      "outputs": [
        {
          "output_type": "stream",
          "name": "stdout",
          "text": [
            "Hello/1/4.5/9/True\n"
          ]
        }
      ]
    },
    {
      "cell_type": "code",
      "source": [
        "# can run diffrent print statements together\n",
        "print('hello')\n",
        "print('world') # reason is end='/n'"
      ],
      "metadata": {
        "colab": {
          "base_uri": "https://localhost:8080/"
        },
        "id": "T4UfsWopIhgU",
        "outputId": "0ed52821-881d-49a3-c40b-8f67835fdde1"
      },
      "execution_count": null,
      "outputs": [
        {
          "output_type": "stream",
          "name": "stdout",
          "text": [
            "hello\n",
            "world\n"
          ]
        }
      ]
    },
    {
      "cell_type": "code",
      "source": [
        "# overwriting end='/n'\n",
        "print('hello',end='-')\n",
        "print('world')"
      ],
      "metadata": {
        "colab": {
          "base_uri": "https://localhost:8080/"
        },
        "id": "kZWYYonPQVfq",
        "outputId": "802f759d-f4d4-4ac6-8419-6eac652797c0"
      },
      "execution_count": null,
      "outputs": [
        {
          "output_type": "stream",
          "name": "stdout",
          "text": [
            "hello-world\n"
          ]
        }
      ]
    },
    {
      "cell_type": "markdown",
      "source": [
        "# 2. **Data Type**"
      ],
      "metadata": {
        "id": "bpzzBE8yGQ6B"
      }
    },
    {
      "cell_type": "code",
      "source": [
        "# Integer\n",
        "print(8)\n",
        "# python can handle large integers upto 1e309 (1*10^309)\n",
        "print (1e309)"
      ],
      "metadata": {
        "colab": {
          "base_uri": "https://localhost:8080/"
        },
        "id": "OwCCvmrZGV-I",
        "outputId": "6d995523-97f5-4f5c-d87e-a4983fc931fe"
      },
      "execution_count": null,
      "outputs": [
        {
          "output_type": "stream",
          "name": "stdout",
          "text": [
            "8\n",
            "inf\n"
          ]
        }
      ]
    },
    {
      "cell_type": "code",
      "source": [
        "# Float/Decimal\n",
        "print(9.57)\n",
        "# python can handle decimals upto 1.7e309\n",
        "print(1.7e309)"
      ],
      "metadata": {
        "colab": {
          "base_uri": "https://localhost:8080/"
        },
        "id": "XlIs90NXSPpb",
        "outputId": "469f4ed5-48e2-466b-b613-ea47685fb14c"
      },
      "execution_count": null,
      "outputs": [
        {
          "output_type": "stream",
          "name": "stdout",
          "text": [
            "9.57\n",
            "inf\n"
          ]
        }
      ]
    },
    {
      "cell_type": "code",
      "source": [
        "# Boolean True or False\n",
        "print(True)        # Used to built logic\n",
        "print(False)"
      ],
      "metadata": {
        "colab": {
          "base_uri": "https://localhost:8080/"
        },
        "id": "DXUVOkOUSesb",
        "outputId": "f596b944-eb14-48ef-8adc-3f8d204c3f63"
      },
      "execution_count": null,
      "outputs": [
        {
          "output_type": "stream",
          "name": "stdout",
          "text": [
            "True\n",
            "False\n"
          ]
        }
      ]
    },
    {
      "cell_type": "code",
      "source": [
        "# Text/String\n",
        "print('Hello! World')"
      ],
      "metadata": {
        "colab": {
          "base_uri": "https://localhost:8080/"
        },
        "id": "yWg6Vw_ES0ri",
        "outputId": "70157df8-0098-4eec-9c78-05ec5a0a9d59"
      },
      "execution_count": null,
      "outputs": [
        {
          "output_type": "stream",
          "name": "stdout",
          "text": [
            "Hello! World\n"
          ]
        }
      ]
    },
    {
      "cell_type": "code",
      "source": [
        "# Complex Number\n",
        "print(5+6j)        # One is real part and one is imaginary part"
      ],
      "metadata": {
        "colab": {
          "base_uri": "https://localhost:8080/"
        },
        "id": "ZSglUf5mTEnp",
        "outputId": "72d321aa-599f-4198-de66-ea51e8e0f467"
      },
      "execution_count": null,
      "outputs": [
        {
          "output_type": "stream",
          "name": "stdout",
          "text": [
            "(5+6j)\n"
          ]
        }
      ]
    },
    {
      "cell_type": "code",
      "source": [
        "# List-> C-> Array\n",
        "print([1,2,3,4,5])"
      ],
      "metadata": {
        "colab": {
          "base_uri": "https://localhost:8080/"
        },
        "id": "T-xq-sgTTUyc",
        "outputId": "dc7fc476-d41c-4e71-f04d-bb52854c4266"
      },
      "execution_count": null,
      "outputs": [
        {
          "output_type": "stream",
          "name": "stdout",
          "text": [
            "[1, 2, 3, 4, 5]\n"
          ]
        }
      ]
    },
    {
      "cell_type": "code",
      "source": [
        "# Tuple\n",
        "print((1,2,3,4,5))"
      ],
      "metadata": {
        "colab": {
          "base_uri": "https://localhost:8080/"
        },
        "id": "4qzmv_Y6Ti6a",
        "outputId": "6fe9e478-c274-41c9-d3ee-165957268093"
      },
      "execution_count": null,
      "outputs": [
        {
          "output_type": "stream",
          "name": "stdout",
          "text": [
            "(1, 2, 3, 4, 5)\n"
          ]
        }
      ]
    },
    {
      "cell_type": "code",
      "source": [
        "# Sets\n",
        "print({1,2,3,4,5})"
      ],
      "metadata": {
        "colab": {
          "base_uri": "https://localhost:8080/"
        },
        "id": "YK1L9Cz1TzMU",
        "outputId": "2f10796b-c12d-42f6-e65c-18856ca829d8"
      },
      "execution_count": null,
      "outputs": [
        {
          "output_type": "stream",
          "name": "stdout",
          "text": [
            "{1, 2, 3, 4, 5}\n"
          ]
        }
      ]
    },
    {
      "cell_type": "code",
      "source": [
        "# Dictionary\n",
        "print({'name':'Aqsa','gender': 'Male','weight': 65})"
      ],
      "metadata": {
        "colab": {
          "base_uri": "https://localhost:8080/"
        },
        "id": "d2nEnVL4UB4Z",
        "outputId": "535de5d7-621e-4fa5-f0b4-81f0540a19e5"
      },
      "execution_count": null,
      "outputs": [
        {
          "output_type": "stream",
          "name": "stdout",
          "text": [
            "{'name': 'Aqsa', 'gender': 'Male', 'weight': 65}\n"
          ]
        }
      ]
    },
    {
      "cell_type": "code",
      "source": [
        "#Type\n",
        "type(2)         #way to detect datatype"
      ],
      "metadata": {
        "colab": {
          "base_uri": "https://localhost:8080/"
        },
        "id": "Lk02w4rwnBG0",
        "outputId": "79e35703-cc93-4047-abc0-ab32a3130920"
      },
      "execution_count": 1,
      "outputs": [
        {
          "output_type": "execute_result",
          "data": {
            "text/plain": [
              "int"
            ]
          },
          "metadata": {},
          "execution_count": 1
        }
      ]
    },
    {
      "cell_type": "markdown",
      "source": [
        "# 3. **Variables**\n",
        " * Containers to store information\n",
        " * the value varies , because programmer doesn't know the future use"
      ],
      "metadata": {
        "id": "Fsx80K4wnRcm"
      }
    },
    {
      "cell_type": "code",
      "source": [
        "# static vs dyamic typing\n",
        "# static vs dyamic typing\n",
        "# stylish declaration techniques"
      ],
      "metadata": {
        "id": "S1voixBanOOp"
      },
      "execution_count": null,
      "outputs": []
    },
    {
      "cell_type": "code",
      "source": [
        "#STATIC TYPING\n",
        "# C/C++ variable defining\n",
        "int name ='Aqsa'\n",
        "\n",
        "# in python\n",
        "name = 'Aqsa'\n",
        "print(name)\n",
        "\n",
        "a =10\n",
        "b =19\n",
        "print(a+b)    # in python we don't need to define variables as such , at the top"
      ],
      "metadata": {
        "colab": {
          "base_uri": "https://localhost:8080/"
        },
        "collapsed": true,
        "id": "_fW7QV15n78n",
        "outputId": "951ef622-4337-45a0-9d79-e18ab75b68c8"
      },
      "execution_count": 8,
      "outputs": [
        {
          "output_type": "stream",
          "name": "stdout",
          "text": [
            "Aqsa\n",
            "29\n"
          ]
        }
      ]
    },
    {
      "cell_type": "code",
      "source": [
        "# Dynamic Typing\n",
        "a = 5   # in py , pythons interpreter is intelligent enough to understand the\n",
        "        # datatype of the varible so defining rqd.\n",
        "\n",
        "# Static typing\n",
        "int a = 5   #in c/c++\n"
      ],
      "metadata": {
        "id": "9Ch2RaJspLCA"
      },
      "execution_count": null,
      "outputs": []
    },
    {
      "cell_type": "code",
      "source": [
        "# Dynamic Binding\n",
        "a = 5\n",
        "print(a)\n",
        "\n",
        "a = 'aqsa'\n",
        "print (a)    #in py the value of variable defined can be anything\n",
        "              and a variable defined in python can store diffrent\n",
        "              datatypes in same prog."
      ],
      "metadata": {
        "colab": {
          "base_uri": "https://localhost:8080/"
        },
        "id": "fWkSM3Dyq0t1",
        "outputId": "8746323c-f422-40eb-fdec-61d59ac3e69c"
      },
      "execution_count": 10,
      "outputs": [
        {
          "output_type": "stream",
          "name": "stdout",
          "text": [
            "5\n",
            "aqsa\n"
          ]
        }
      ]
    },
    {
      "cell_type": "code",
      "source": [
        "# Static Binding\n",
        "int a = 5     #value is same throughout the code"
      ],
      "metadata": {
        "id": "VVrkz8_1rH6d"
      },
      "execution_count": null,
      "outputs": []
    },
    {
      "cell_type": "code",
      "source": [
        "# Stylish declaration techniques\n",
        "a = 1\n",
        "b = 2\n",
        "c = 3\n",
        "print(a,b,c)"
      ],
      "metadata": {
        "colab": {
          "base_uri": "https://localhost:8080/"
        },
        "id": "r2sIiY6brt1Q",
        "outputId": "f03dc29c-a660-4fcb-b865-6f6de9f63e42"
      },
      "execution_count": 12,
      "outputs": [
        {
          "output_type": "stream",
          "name": "stdout",
          "text": [
            "1 2 3\n"
          ]
        }
      ]
    },
    {
      "cell_type": "code",
      "source": [
        "a,b,c=1,2,3\n",
        "print(a,b,c)\n"
      ],
      "metadata": {
        "colab": {
          "base_uri": "https://localhost:8080/"
        },
        "id": "MRFX50h5sDRc",
        "outputId": "91df2f0b-17f8-4b25-8807-960e42f5cb2a"
      },
      "execution_count": 13,
      "outputs": [
        {
          "output_type": "stream",
          "name": "stdout",
          "text": [
            "1 2 3\n"
          ]
        }
      ]
    },
    {
      "cell_type": "code",
      "source": [
        "a=b=c = 5\n",
        "print(a,b,c)"
      ],
      "metadata": {
        "colab": {
          "base_uri": "https://localhost:8080/"
        },
        "id": "KknWPiAHsTNz",
        "outputId": "2720953f-da03-4b8a-b777-a0aaec469982"
      },
      "execution_count": 14,
      "outputs": [
        {
          "output_type": "stream",
          "name": "stdout",
          "text": [
            "5 5 5\n"
          ]
        }
      ]
    },
    {
      "cell_type": "markdown",
      "source": [
        "# 4. **Comments**"
      ],
      "metadata": {
        "id": "H7dUaDgWtNIS"
      }
    },
    {
      "cell_type": "code",
      "source": [
        "# in companies comments are written on top\n",
        "a = 5\n",
        "b = 6             #this is comment and py will ignore this\n",
        "print (a+b)"
      ],
      "metadata": {
        "colab": {
          "base_uri": "https://localhost:8080/"
        },
        "id": "_ogibb2rL6Vq",
        "outputId": "57288598-0f98-4772-f711-faefb769a17b"
      },
      "execution_count": 16,
      "outputs": [
        {
          "output_type": "stream",
          "name": "stdout",
          "text": [
            "11\n"
          ]
        }
      ]
    },
    {
      "cell_type": "markdown",
      "source": [
        "5. # **Keywords**\n",
        "* Keywords are the words reserved by the compiler to understand the code futhur conv into binary\n",
        "* 32 keywords in py\n",
        "* Don't use keyword names as variables in the code to avoid confusion\n",
        "\n"
      ],
      "metadata": {
        "id": "CnooXa9xtFK1"
      }
    },
    {
      "cell_type": "markdown",
      "source": [
        "# **Identifiers**\n",
        "As a programmer the name we allot in a program is called an identifier (name creation)\n",
        "\n",
        "**RULES:**\n",
        "* don't start with a digit\n",
        "* can use upp, low case but in  \n",
        "  special chars only use'_'\n",
        "* identifiers cannot be keywords\n",
        "\n"
      ],
      "metadata": {
        "id": "vMdxzqKfL91Z"
      }
    },
    {
      "cell_type": "code",
      "source": [
        "# not starting with digits\n",
        "name1 ='Aqsa'       #start with a string\n",
        "print(name1)\n",
        "\n",
        "#using underscore\n",
        "_ = 'Aqsa'\n",
        "print(_)"
      ],
      "metadata": {
        "colab": {
          "base_uri": "https://localhost:8080/"
        },
        "id": "xIVh7BHZMldP",
        "outputId": "7344cc40-f27d-475a-970c-93a46f018178"
      },
      "execution_count": 23,
      "outputs": [
        {
          "output_type": "stream",
          "name": "stdout",
          "text": [
            "Aqsa\n",
            "Aqsa\n"
          ]
        }
      ]
    },
    {
      "cell_type": "markdown",
      "source": [
        "# 5. **User Input**\n",
        "\n",
        "Static software:  user only takes info\n",
        "\n",
        "Dynamic software:\n",
        "\n"
      ],
      "metadata": {
        "id": "lO_ScFZIOjCS"
      }
    },
    {
      "cell_type": "code",
      "source": [
        "# static\n",
        "input('Enter Email')"
      ],
      "metadata": {
        "id": "w_2V1oD8OoGQ"
      },
      "execution_count": null,
      "outputs": []
    },
    {
      "cell_type": "markdown",
      "source": [
        "# **Program 1 :**"
      ],
      "metadata": {
        "id": "LXL2KwO1YNVj"
      }
    },
    {
      "cell_type": "markdown",
      "source": [
        "while taking input from user python stores datatypes in strings because string the universal data format."
      ],
      "metadata": {
        "id": "VC_4NjJlY4LC"
      }
    },
    {
      "cell_type": "code",
      "source": [
        "# take input from users and store them in variable\n",
        "fnum = input('enter first number')\n",
        "snum = input('enter second number')\n",
        "print(type (fnum),type(snum))\n",
        "#add the 2 variables\n",
        "result = int(fnum)+ int(snum)\n",
        "#print the result\n",
        "print(result)\n",
        "print(type(fnum))"
      ],
      "metadata": {
        "colab": {
          "base_uri": "https://localhost:8080/"
        },
        "id": "naRmiqU-TDly",
        "outputId": "071fe3b1-f749-417d-a657-8e31c4d68c96"
      },
      "execution_count": 67,
      "outputs": [
        {
          "output_type": "stream",
          "name": "stdout",
          "text": [
            "enter first number22\n",
            "enter second number78\n",
            "<class 'str'> <class 'str'>\n",
            "100\n",
            "<class 'str'>\n"
          ]
        }
      ]
    },
    {
      "cell_type": "markdown",
      "source": [
        "# **6. Type Conversion**\n",
        "\n",
        "* Implicit : operation over diffrent datatypes and py allows it as it's mathematically possible.\n",
        "* Explicit:\n"
      ],
      "metadata": {
        "id": "LK6_X5l7ZMSK"
      }
    },
    {
      "cell_type": "code",
      "source": [
        "# implicit\n",
        "print(5+5.6)\n",
        "print (type(5), type(5.6))"
      ],
      "metadata": {
        "colab": {
          "base_uri": "https://localhost:8080/"
        },
        "id": "QZRim_btYRZp",
        "outputId": "1914857c-9db3-4651-fb31-36b5c045adc3"
      },
      "execution_count": 36,
      "outputs": [
        {
          "output_type": "stream",
          "name": "stdout",
          "text": [
            "10.6\n",
            "<class 'int'> <class 'float'>\n"
          ]
        }
      ]
    },
    {
      "cell_type": "code",
      "source": [
        "# Explicit\n",
        "print(4+ '4') # py doesn't convert here"
      ],
      "metadata": {
        "id": "kmZX6LJ6adfK"
      },
      "execution_count": null,
      "outputs": []
    },
    {
      "cell_type": "code",
      "source": [
        "# Explict type conversion (programmer)\n",
        "# ex: str-> int\n",
        "\n",
        "int('4')\n",
        "int(float('4.5'))\n",
        "\n",
        "#int('4+5j)          #doesn't convert , if want to can conv furthur\n",
        "\n"
      ],
      "metadata": {
        "colab": {
          "base_uri": "https://localhost:8080/"
        },
        "id": "PE1qGyuAape6",
        "outputId": "74ecc3b3-cc27-446c-e6aa-cfda136ba74a"
      },
      "execution_count": 65,
      "outputs": [
        {
          "output_type": "execute_result",
          "data": {
            "text/plain": [
              "4"
            ]
          },
          "metadata": {},
          "execution_count": 65
        }
      ]
    },
    {
      "cell_type": "markdown",
      "source": [
        "# **7. Literals**\n",
        "\n",
        "* Any raw value store in a variable.\n",
        "\n",
        "* Diffent ways to set literals"
      ],
      "metadata": {
        "id": "8KJlCc7Dg-xw"
      }
    },
    {
      "cell_type": "code",
      "source": [
        "# Binary Literals\n",
        "a = 0b1010\n",
        "print(a)"
      ],
      "metadata": {
        "colab": {
          "base_uri": "https://localhost:8080/"
        },
        "id": "b5Zj2C3ahaVk",
        "outputId": "a8c60ca7-d235-42d5-b927-fd03cbca4930"
      },
      "execution_count": 71,
      "outputs": [
        {
          "output_type": "stream",
          "name": "stdout",
          "text": [
            "10\n"
          ]
        }
      ]
    },
    {
      "cell_type": "code",
      "source": [
        "# Decimal Literals\n",
        "b = 100\n",
        "print(b)"
      ],
      "metadata": {
        "colab": {
          "base_uri": "https://localhost:8080/"
        },
        "id": "St1ZQChRhod6",
        "outputId": "0e00f6cd-1c12-4a0f-a660-371a26be6786"
      },
      "execution_count": 73,
      "outputs": [
        {
          "output_type": "stream",
          "name": "stdout",
          "text": [
            "100\n"
          ]
        }
      ]
    },
    {
      "cell_type": "code",
      "source": [
        "# Octal Literals\n",
        "c = 0o310 # this is the octal rep of 200\n",
        "print(c)"
      ],
      "metadata": {
        "colab": {
          "base_uri": "https://localhost:8080/"
        },
        "id": "4MQjmJx0hvvD",
        "outputId": "0703f12b-b7f7-4e44-fa52-869e0ae210aa"
      },
      "execution_count": 75,
      "outputs": [
        {
          "output_type": "stream",
          "name": "stdout",
          "text": [
            "200\n"
          ]
        }
      ]
    },
    {
      "cell_type": "code",
      "source": [
        "# Hexadecimal Literal\n",
        "d =0x12c\n",
        "print(d)"
      ],
      "metadata": {
        "colab": {
          "base_uri": "https://localhost:8080/"
        },
        "id": "jM4UEM9KiGEw",
        "outputId": "0da053e7-9dc0-4c34-8bfc-2c087fc3c21c"
      },
      "execution_count": 79,
      "outputs": [
        {
          "output_type": "stream",
          "name": "stdout",
          "text": [
            "300\n"
          ]
        }
      ]
    },
    {
      "cell_type": "code",
      "source": [
        "# Float Literals ( convienent to rep very small and big numbers)\n",
        "float_1 = 10.5\n",
        "float_2 = 1.5e3   #1.5*10^3\n",
        "float_3 = 1.5e-3  #1.5*10^-3\n",
        "print(float_1,float_2,float_3)"
      ],
      "metadata": {
        "colab": {
          "base_uri": "https://localhost:8080/"
        },
        "id": "ZjjFkxPXifdP",
        "outputId": "0bf9f084-2ff5-4444-e442-f3b3adfec565"
      },
      "execution_count": 84,
      "outputs": [
        {
          "output_type": "stream",
          "name": "stdout",
          "text": [
            "10.5 1500.0 0.0015\n"
          ]
        }
      ]
    },
    {
      "cell_type": "code",
      "source": [
        "# Complex literals\n",
        "x = 3.14j\n",
        "print(x,x.imag,x.real)\n"
      ],
      "metadata": {
        "colab": {
          "base_uri": "https://localhost:8080/"
        },
        "id": "wBPDVlb_jdmU",
        "outputId": "1e4a64e8-b2f4-46f1-eba6-b1dac95cad97"
      },
      "execution_count": 85,
      "outputs": [
        {
          "output_type": "stream",
          "name": "stdout",
          "text": [
            "3.14j 3.14 0.0\n"
          ]
        }
      ]
    },
    {
      "cell_type": "markdown",
      "source": [
        "**Giving values to strings**"
      ],
      "metadata": {
        "id": "zw2UN40PkKvm"
      }
    },
    {
      "cell_type": "code",
      "source": [
        "# string with single commas\n",
        "string = 'This is python'\n",
        "print (string)"
      ],
      "metadata": {
        "colab": {
          "base_uri": "https://localhost:8080/"
        },
        "id": "r4anUlxTlfd_",
        "outputId": "4f368364-8b6d-4563-e909-4e677409eb1a"
      },
      "execution_count": 90,
      "outputs": [
        {
          "output_type": "stream",
          "name": "stdout",
          "text": [
            "This is python\n"
          ]
        }
      ]
    },
    {
      "cell_type": "code",
      "source": [
        "# string with double commas\n",
        "string = \"This is python\"\n",
        "print(string)\n"
      ],
      "metadata": {
        "colab": {
          "base_uri": "https://localhost:8080/"
        },
        "id": "7cv9iJNQlqPm",
        "outputId": "27155214-e08d-4e0d-d8d1-04a97dd1fff4"
      },
      "execution_count": 91,
      "outputs": [
        {
          "output_type": "stream",
          "name": "stdout",
          "text": [
            "This is python\n"
          ]
        }
      ]
    },
    {
      "cell_type": "code",
      "source": [
        "# char\n",
        "char =\"C\"\n",
        "print(char)"
      ],
      "metadata": {
        "colab": {
          "base_uri": "https://localhost:8080/"
        },
        "id": "VPESBGFClv8e",
        "outputId": "f33bd8f2-436a-4d24-d32c-51dd716b2f69"
      },
      "execution_count": 92,
      "outputs": [
        {
          "output_type": "stream",
          "name": "stdout",
          "text": [
            "C\n"
          ]
        }
      ]
    },
    {
      "cell_type": "code",
      "source": [
        "# multiline\n",
        "multiline_str = \"\"\" This is multi string with more than one line code\"\"\"\n",
        "print(multiline_str)"
      ],
      "metadata": {
        "colab": {
          "base_uri": "https://localhost:8080/"
        },
        "id": "8BosTk18lymb",
        "outputId": "cc5a9297-2386-4477-818e-a68f1d13a40b"
      },
      "execution_count": 93,
      "outputs": [
        {
          "output_type": "stream",
          "name": "stdout",
          "text": [
            " This is multi string with more than one line code\n"
          ]
        }
      ]
    },
    {
      "cell_type": "code",
      "source": [
        "# Unicode\n",
        "unicode = u\"\\U0001f600\\U0001F606\\U0001F923\"\n",
        "print(unicode)\n"
      ],
      "metadata": {
        "colab": {
          "base_uri": "https://localhost:8080/"
        },
        "id": "SU_zyu28mDwF",
        "outputId": "c69c270a-7f29-4249-ef2b-76b9f5a37f92"
      },
      "execution_count": 94,
      "outputs": [
        {
          "output_type": "stream",
          "name": "stdout",
          "text": [
            "😀😆🤣\n"
          ]
        }
      ]
    },
    {
      "cell_type": "code",
      "source": [
        "# raw\n",
        "raw_str = r\"raw\\n string\"\n",
        "print (raw_str)"
      ],
      "metadata": {
        "colab": {
          "base_uri": "https://localhost:8080/"
        },
        "id": "tQwM0ao9mSXx",
        "outputId": "b22c97a2-d782-4917-dd53-209694189a12"
      },
      "execution_count": 96,
      "outputs": [
        {
          "output_type": "stream",
          "name": "stdout",
          "text": [
            "raw\\n string\n"
          ]
        }
      ]
    },
    {
      "cell_type": "code",
      "source": [
        "# Boolean\n",
        "a = True + 4\n",
        "b = False + 19\n",
        "print (\"a:\", a)\n",
        "print (\"b:\", b)"
      ],
      "metadata": {
        "colab": {
          "base_uri": "https://localhost:8080/"
        },
        "id": "KSR7adQHmpgj",
        "outputId": "f46e0e18-23d1-44f6-f56a-d92644ad1ed2"
      },
      "execution_count": 97,
      "outputs": [
        {
          "output_type": "stream",
          "name": "stdout",
          "text": [
            "a: 5\n",
            "b: 19\n"
          ]
        }
      ]
    },
    {
      "cell_type": "code",
      "source": [
        "# None\n",
        "a = None\n",
        "print (a)\n"
      ],
      "metadata": {
        "colab": {
          "base_uri": "https://localhost:8080/"
        },
        "id": "TeKmHCPNoC5O",
        "outputId": "70da724f-dde3-4804-e1e1-ea4e0bc4b32b"
      },
      "execution_count": 3,
      "outputs": [
        {
          "output_type": "stream",
          "name": "stdout",
          "text": [
            "None\n"
          ]
        }
      ]
    },
    {
      "cell_type": "code",
      "source": [
        "# example\n",
        "k = None      #no variable declaration in python, use and make\n",
        "a = 5\n",
        "b = 6\n",
        "print('program execution')"
      ],
      "metadata": {
        "colab": {
          "base_uri": "https://localhost:8080/"
        },
        "id": "ATnE4oeAnJ1n",
        "outputId": "ed3790f3-96cc-44ee-bda9-a59ee95a2f7e"
      },
      "execution_count": 5,
      "outputs": [
        {
          "output_type": "stream",
          "name": "stdout",
          "text": [
            "program execution\n"
          ]
        }
      ]
    },
    {
      "cell_type": "markdown",
      "source": [
        "# **8. Operators**"
      ],
      "metadata": {
        "id": "PfTbSdEIny1O"
      }
    },
    {
      "cell_type": "code",
      "source": [],
      "metadata": {
        "id": "VEhULka4n20P"
      },
      "execution_count": null,
      "outputs": []
    }
  ]
}