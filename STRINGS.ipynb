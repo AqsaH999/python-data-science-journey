{
  "nbformat": 4,
  "nbformat_minor": 0,
  "metadata": {
    "colab": {
      "provenance": [],
      "authorship_tag": "ABX9TyN/OyNUXeSg0J6C8viPnctY",
      "include_colab_link": true
    },
    "kernelspec": {
      "name": "python3",
      "display_name": "Python 3"
    },
    "language_info": {
      "name": "python"
    }
  },
  "cells": [
    {
      "cell_type": "markdown",
      "metadata": {
        "id": "view-in-github",
        "colab_type": "text"
      },
      "source": [
        "<a href=\"https://colab.research.google.com/github/AqsaH999/python-data-science-journey/blob/main/STRINGS.ipynb\" target=\"_parent\"><img src=\"https://colab.research.google.com/assets/colab-badge.svg\" alt=\"Open In Colab\"/></a>"
      ]
    },
    {
      "cell_type": "markdown",
      "source": [
        "# **STRINGS:**\n",
        "    In py strings are a set of unicode(16-bit) characters.\n",
        "\n",
        "\n",
        "\n",
        "\n"
      ],
      "metadata": {
        "id": "DpdnlDQ_sSj1"
      }
    },
    {
      "cell_type": "markdown",
      "source": [
        "**CREATING STRINGS:**"
      ],
      "metadata": {
        "id": "q7nCDruLtP4y"
      }
    },
    {
      "cell_type": "code",
      "execution_count": 1,
      "metadata": {
        "colab": {
          "base_uri": "https://localhost:8080/"
        },
        "id": "6hseaQjEsIAq",
        "outputId": "5eaf55f7-5f13-4289-f9e5-bd0524b366c7"
      },
      "outputs": [
        {
          "output_type": "stream",
          "name": "stdout",
          "text": [
            "hello\n"
          ]
        }
      ],
      "source": [
        "s = 'hello'\n",
        "s = \"hello\"\n",
        "s = str(\"hello\")\n",
        "print(s)"
      ]
    },
    {
      "cell_type": "code",
      "source": [
        "# Example: using double inverted commas\n",
        "\"it's raining outside\""
      ],
      "metadata": {
        "colab": {
          "base_uri": "https://localhost:8080/",
          "height": 35
        },
        "id": "GFj6nSIEt02w",
        "outputId": "2c8d4c5d-d6a3-4f59-913c-0e8f4ddb336b"
      },
      "execution_count": 3,
      "outputs": [
        {
          "output_type": "execute_result",
          "data": {
            "text/plain": [
              "\"it's raining outside\""
            ],
            "application/vnd.google.colaboratory.intrinsic+json": {
              "type": "string"
            }
          },
          "metadata": {},
          "execution_count": 3
        }
      ]
    },
    {
      "cell_type": "code",
      "source": [
        "# multiline strings\n",
        "s = '''hello'''\n",
        "s = \"\"\"hello\"\"\""
      ],
      "metadata": {
        "id": "TR9eQvgSuQ_x"
      },
      "execution_count": null,
      "outputs": []
    },
    {
      "cell_type": "code",
      "source": [
        "# type conv function\n",
        "s = str(\"hello\")"
      ],
      "metadata": {
        "id": "5xjCye8VuW7P"
      },
      "execution_count": null,
      "outputs": []
    },
    {
      "cell_type": "markdown",
      "source": [
        "**ACCESSING SUB-STRINGS FROM A STRING:**"
      ],
      "metadata": {
        "id": "39e9p11Aufe6"
      }
    },
    {
      "cell_type": "code",
      "source": [
        "# POSITIVE-INDEXING\n",
        "s = 'hello world'        # py will assign 0 to h, 1 to e and so on\n",
        "print(s[6])"
      ],
      "metadata": {
        "colab": {
          "base_uri": "https://localhost:8080/"
        },
        "id": "Olt9Omv9uZ_u",
        "outputId": "3ecd1889-d431-4c81-9d56-8d1477f18024"
      },
      "execution_count": 6,
      "outputs": [
        {
          "output_type": "stream",
          "name": "stdout",
          "text": [
            "w\n"
          ]
        }
      ]
    },
    {
      "cell_type": "code",
      "source": [
        "# NEGATIVE-INDEXING\n",
        "s = 'hello world'\n",
        "print(s[-4])           # py assigned -1 to d ans so on\n",
        "                       # starting number should be larger in negative indexing\n",
        "\n",
        "# Usage: to pop ot last or second last character ans so on without\n",
        "         #knowing the string length.\n",
        ""
      ],
      "metadata": {
        "colab": {
          "base_uri": "https://localhost:8080/"
        },
        "id": "dVlgukzQvWO8",
        "outputId": "42ff4eaa-7dd0-4930-e391-244a339d5772"
      },
      "execution_count": 14,
      "outputs": [
        {
          "output_type": "stream",
          "name": "stdout",
          "text": [
            "o\n"
          ]
        }
      ]
    },
    {
      "cell_type": "code",
      "source": [
        "# SLICING : extracting more than one characters\n",
        "s = 'hello world'\n",
        "print(s[2:5])"
      ],
      "metadata": {
        "colab": {
          "base_uri": "https://localhost:8080/"
        },
        "id": "wjtnRyzDwKnQ",
        "outputId": "c6d915d8-1b01-4cd3-f03a-d226cf2de53c"
      },
      "execution_count": 11,
      "outputs": [
        {
          "output_type": "stream",
          "name": "stdout",
          "text": [
            "llo\n"
          ]
        }
      ]
    },
    {
      "cell_type": "code",
      "source": [
        "s = 'hello world'\n",
        "print(s[2:])"
      ],
      "metadata": {
        "colab": {
          "base_uri": "https://localhost:8080/"
        },
        "id": "mcPv4FLkw_0U",
        "outputId": "ba60ed8c-b08f-4010-90ab-164441f1414e"
      },
      "execution_count": 12,
      "outputs": [
        {
          "output_type": "stream",
          "name": "stdout",
          "text": [
            "llo world\n"
          ]
        }
      ]
    },
    {
      "cell_type": "code",
      "source": [
        "s = 'hello world'\n",
        "print(s[:])"
      ],
      "metadata": {
        "colab": {
          "base_uri": "https://localhost:8080/"
        },
        "id": "51XscAgLxChP",
        "outputId": "3d05bca0-a353-46e8-bc47-b28c1b360489"
      },
      "execution_count": 13,
      "outputs": [
        {
          "output_type": "stream",
          "name": "stdout",
          "text": [
            "hello world\n"
          ]
        }
      ]
    },
    {
      "cell_type": "code",
      "source": [
        "# step size a third number\n",
        "s = 'hello world'\n",
        "print(s[0:8:2])\n"
      ],
      "metadata": {
        "colab": {
          "base_uri": "https://localhost:8080/"
        },
        "id": "o6gVOI9KxMnE",
        "outputId": "b795002c-d57f-4eea-a89c-8ce782763178"
      },
      "execution_count": 24,
      "outputs": [
        {
          "output_type": "stream",
          "name": "stdout",
          "text": [
            "hlow\n"
          ]
        }
      ]
    },
    {
      "cell_type": "code",
      "source": [
        "s = 'hello world'\n",
        "print(s[5:0:-1])"
      ],
      "metadata": {
        "colab": {
          "base_uri": "https://localhost:8080/"
        },
        "id": "Qx6Htmf8yQdO",
        "outputId": "440e79ba-68c6-43e2-edd5-8a81242df5af"
      },
      "execution_count": 25,
      "outputs": [
        {
          "output_type": "stream",
          "name": "stdout",
          "text": [
            " olle\n"
          ]
        }
      ]
    },
    {
      "cell_type": "code",
      "source": [
        "# FAMOUS piece of code: reverses a given string\n",
        "print(s[::-1])"
      ],
      "metadata": {
        "colab": {
          "base_uri": "https://localhost:8080/"
        },
        "id": "mhMzAc1ayidU",
        "outputId": "6c693223-8d95-460a-9252-6abf9f5db576"
      },
      "execution_count": 27,
      "outputs": [
        {
          "output_type": "stream",
          "name": "stdout",
          "text": [
            "dlrow olleh\n"
          ]
        }
      ]
    },
    {
      "cell_type": "code",
      "source": [
        "s = 'hello world'\n",
        "print(s[-1:-6:-1])"
      ],
      "metadata": {
        "colab": {
          "base_uri": "https://localhost:8080/"
        },
        "id": "TqNabptoTh2T",
        "outputId": "da9002be-0952-447c-af99-b7bb352158c3"
      },
      "execution_count": 4,
      "outputs": [
        {
          "output_type": "stream",
          "name": "stdout",
          "text": [
            "dlrow\n"
          ]
        }
      ]
    },
    {
      "cell_type": "markdown",
      "source": [
        "**EDITING STRINGS**"
      ],
      "metadata": {
        "id": "OtU4JNUsUWOD"
      }
    },
    {
      "cell_type": "code",
      "source": [
        "#replace h with H\n",
        "s = 'hello world'\n",
        "s[0] = 'H'\n",
        "\n",
        "###Important: Python strings are immutable ,can't be changed once made"
      ],
      "metadata": {
        "colab": {
          "base_uri": "https://localhost:8080/",
          "height": 173
        },
        "collapsed": true,
        "id": "ZHCK7KqiUd6P",
        "outputId": "756b4ffe-c63a-4308-cbb9-0db5390ecd95"
      },
      "execution_count": 5,
      "outputs": [
        {
          "output_type": "error",
          "ename": "TypeError",
          "evalue": "'str' object does not support item assignment",
          "traceback": [
            "\u001b[0;31m---------------------------------------------------------------------------\u001b[0m",
            "\u001b[0;31mTypeError\u001b[0m                                 Traceback (most recent call last)",
            "\u001b[0;32m/tmp/ipython-input-2133787667.py\u001b[0m in \u001b[0;36m<cell line: 0>\u001b[0;34m()\u001b[0m\n\u001b[1;32m      1\u001b[0m \u001b[0;31m#replace h with H\u001b[0m\u001b[0;34m\u001b[0m\u001b[0;34m\u001b[0m\u001b[0m\n\u001b[1;32m      2\u001b[0m \u001b[0ms\u001b[0m \u001b[0;34m=\u001b[0m \u001b[0;34m'hello world'\u001b[0m\u001b[0;34m\u001b[0m\u001b[0;34m\u001b[0m\u001b[0m\n\u001b[0;32m----> 3\u001b[0;31m \u001b[0ms\u001b[0m\u001b[0;34m[\u001b[0m\u001b[0;36m0\u001b[0m\u001b[0;34m]\u001b[0m \u001b[0;34m=\u001b[0m \u001b[0;34m'H'\u001b[0m\u001b[0;34m\u001b[0m\u001b[0;34m\u001b[0m\u001b[0m\n\u001b[0m",
            "\u001b[0;31mTypeError\u001b[0m: 'str' object does not support item assignment"
          ]
        }
      ]
    },
    {
      "cell_type": "markdown",
      "source": [
        " **DELETING STRING**"
      ],
      "metadata": {
        "id": "Iin7ZDqcW8FV"
      }
    },
    {
      "cell_type": "code",
      "source": [
        "s = 'hello world'\n",
        "del s                      # del is an operator\n",
        "print(s)\n",
        "\n",
        "## actually del is not deleting the string more explaination in future"
      ],
      "metadata": {
        "colab": {
          "base_uri": "https://localhost:8080/",
          "height": 173
        },
        "collapsed": true,
        "id": "mT1s0eXDW2L4",
        "outputId": "fdd3b27c-59d2-4cfe-a189-ebf9ddacfc6c"
      },
      "execution_count": 6,
      "outputs": [
        {
          "output_type": "error",
          "ename": "NameError",
          "evalue": "name 's' is not defined",
          "traceback": [
            "\u001b[0;31m---------------------------------------------------------------------------\u001b[0m",
            "\u001b[0;31mNameError\u001b[0m                                 Traceback (most recent call last)",
            "\u001b[0;32m/tmp/ipython-input-2968721042.py\u001b[0m in \u001b[0;36m<cell line: 0>\u001b[0;34m()\u001b[0m\n\u001b[1;32m      1\u001b[0m \u001b[0ms\u001b[0m \u001b[0;34m=\u001b[0m \u001b[0;34m'hello world'\u001b[0m\u001b[0;34m\u001b[0m\u001b[0;34m\u001b[0m\u001b[0m\n\u001b[1;32m      2\u001b[0m \u001b[0;32mdel\u001b[0m \u001b[0ms\u001b[0m\u001b[0;34m\u001b[0m\u001b[0;34m\u001b[0m\u001b[0m\n\u001b[0;32m----> 3\u001b[0;31m \u001b[0mprint\u001b[0m\u001b[0;34m(\u001b[0m\u001b[0ms\u001b[0m\u001b[0;34m)\u001b[0m\u001b[0;34m\u001b[0m\u001b[0;34m\u001b[0m\u001b[0m\n\u001b[0m",
            "\u001b[0;31mNameError\u001b[0m: name 's' is not defined"
          ]
        }
      ]
    },
    {
      "cell_type": "code",
      "source": [
        "s = 'hello world'\n",
        "del s[-1:-5:2]\n",
        "print(s)\n",
        "\n",
        "# it's a trick question ,whole string can be deleeted not a part of it."
      ],
      "metadata": {
        "colab": {
          "base_uri": "https://localhost:8080/",
          "height": 173
        },
        "collapsed": true,
        "id": "FrpCNXbyXgrm",
        "outputId": "3a5f8926-3fc2-4716-bebc-ceff7239597f"
      },
      "execution_count": 7,
      "outputs": [
        {
          "output_type": "error",
          "ename": "TypeError",
          "evalue": "'str' object does not support item deletion",
          "traceback": [
            "\u001b[0;31m---------------------------------------------------------------------------\u001b[0m",
            "\u001b[0;31mTypeError\u001b[0m                                 Traceback (most recent call last)",
            "\u001b[0;32m/tmp/ipython-input-266792670.py\u001b[0m in \u001b[0;36m<cell line: 0>\u001b[0;34m()\u001b[0m\n\u001b[1;32m      1\u001b[0m \u001b[0ms\u001b[0m \u001b[0;34m=\u001b[0m \u001b[0;34m'hello world'\u001b[0m\u001b[0;34m\u001b[0m\u001b[0;34m\u001b[0m\u001b[0m\n\u001b[0;32m----> 2\u001b[0;31m \u001b[0;32mdel\u001b[0m \u001b[0ms\u001b[0m\u001b[0;34m[\u001b[0m\u001b[0;34m-\u001b[0m\u001b[0;36m1\u001b[0m\u001b[0;34m:\u001b[0m\u001b[0;34m-\u001b[0m\u001b[0;36m5\u001b[0m\u001b[0;34m:\u001b[0m\u001b[0;36m2\u001b[0m\u001b[0;34m]\u001b[0m\u001b[0;34m\u001b[0m\u001b[0;34m\u001b[0m\u001b[0m\n\u001b[0m\u001b[1;32m      3\u001b[0m \u001b[0mprint\u001b[0m\u001b[0;34m(\u001b[0m\u001b[0ms\u001b[0m\u001b[0;34m)\u001b[0m\u001b[0;34m\u001b[0m\u001b[0;34m\u001b[0m\u001b[0m\n",
            "\u001b[0;31mTypeError\u001b[0m: 'str' object does not support item deletion"
          ]
        }
      ]
    },
    {
      "cell_type": "markdown",
      "source": [
        "**OPERATIONS ON STRINGS**"
      ],
      "metadata": {
        "id": "BJ_7VA23YJPi"
      }
    },
    {
      "cell_type": "markdown",
      "source": [
        "**Arithematic Operations:**"
      ],
      "metadata": {
        "id": "W1xGi8_2YU1h"
      }
    },
    {
      "cell_type": "code",
      "source": [
        "# py strings works on + and * operators\n",
        "print('delhi'+' ' + 'mumbai')"
      ],
      "metadata": {
        "colab": {
          "base_uri": "https://localhost:8080/"
        },
        "id": "c7rr5W66YT-7",
        "outputId": "fabee5fc-b9d3-472d-fcc3-cebe4e2cf4cb"
      },
      "execution_count": 10,
      "outputs": [
        {
          "output_type": "stream",
          "name": "stdout",
          "text": [
            "delhi mumbai\n"
          ]
        }
      ]
    },
    {
      "cell_type": "code",
      "source": [
        "print('delhi' * 5)"
      ],
      "metadata": {
        "colab": {
          "base_uri": "https://localhost:8080/"
        },
        "id": "isWRP3J_Ytuy",
        "outputId": "8b83bc32-1494-4a5d-9618-cfa983758228"
      },
      "execution_count": 11,
      "outputs": [
        {
          "output_type": "stream",
          "name": "stdout",
          "text": [
            "delhidelhidelhidelhidelhi\n"
          ]
        }
      ]
    },
    {
      "cell_type": "code",
      "source": [
        "print(\"*\" * 50)\n",
        "#utilitycode"
      ],
      "metadata": {
        "colab": {
          "base_uri": "https://localhost:8080/"
        },
        "id": "eag7TTokY3tC",
        "outputId": "d7c96962-f61c-4751-99cd-4f54d62b777d"
      },
      "execution_count": 13,
      "outputs": [
        {
          "output_type": "stream",
          "name": "stdout",
          "text": [
            "**************************************************\n"
          ]
        }
      ]
    },
    {
      "cell_type": "markdown",
      "source": [
        "**Relational Operations**\n",
        "        :        Every operator works here"
      ],
      "metadata": {
        "id": "_kGOtvd3ZGOd"
      }
    },
    {
      "cell_type": "code",
      "source": [
        "'delhi' != 'delhi'"
      ],
      "metadata": {
        "colab": {
          "base_uri": "https://localhost:8080/"
        },
        "id": "KsXIgFqhZNL0",
        "outputId": "b44a0b2a-3e0a-421f-9455-39a21d427cdd"
      },
      "execution_count": 14,
      "outputs": [
        {
          "output_type": "execute_result",
          "data": {
            "text/plain": [
              "False"
            ]
          },
          "metadata": {},
          "execution_count": 14
        }
      ]
    },
    {
      "cell_type": "code",
      "source": [
        "'mumbai' > 'pune'\n",
        "#logic: we are comparing strings lexiographically acc to ASCII\n",
        "# mumbai comes before pune"
      ],
      "metadata": {
        "colab": {
          "base_uri": "https://localhost:8080/"
        },
        "id": "yaf3lBz0ZUQW",
        "outputId": "89537f8b-112c-411a-b284-ee97637546a9"
      },
      "execution_count": 15,
      "outputs": [
        {
          "output_type": "execute_result",
          "data": {
            "text/plain": [
              "False"
            ]
          },
          "metadata": {},
          "execution_count": 15
        }
      ]
    },
    {
      "cell_type": "code",
      "source": [
        "'Pune' > 'pune'"
      ],
      "metadata": {
        "colab": {
          "base_uri": "https://localhost:8080/"
        },
        "id": "RuNuMp82Z6QE",
        "outputId": "f610b259-3bf4-4e67-8012-664e1eacab50"
      },
      "execution_count": 16,
      "outputs": [
        {
          "output_type": "execute_result",
          "data": {
            "text/plain": [
              "False"
            ]
          },
          "metadata": {},
          "execution_count": 16
        }
      ]
    },
    {
      "cell_type": "markdown",
      "source": [
        "**Logical Operations:**"
      ],
      "metadata": {
        "id": "vfriQg5vBfxE"
      }
    },
    {
      "cell_type": "markdown",
      "source": [
        "     Empty strings are false\n",
        "     filled strings are true"
      ],
      "metadata": {
        "id": "NA3PGCf1bHDl"
      }
    },
    {
      "cell_type": "code",
      "source": [
        "'hello' and 'world'      # python getting sure after 2nd stirng world"
      ],
      "metadata": {
        "colab": {
          "base_uri": "https://localhost:8080/",
          "height": 35
        },
        "id": "jH6ps3rJacKA",
        "outputId": "ded11161-9ea8-477f-9046-c59857fc1a18"
      },
      "execution_count": 17,
      "outputs": [
        {
          "output_type": "execute_result",
          "data": {
            "text/plain": [
              "'world'"
            ],
            "application/vnd.google.colaboratory.intrinsic+json": {
              "type": "string"
            }
          },
          "metadata": {},
          "execution_count": 17
        }
      ]
    },
    {
      "cell_type": "code",
      "source": [
        "'hello' or 'world'       # python getting sure after 1st string only"
      ],
      "metadata": {
        "colab": {
          "base_uri": "https://localhost:8080/",
          "height": 35
        },
        "id": "grziMOipahbA",
        "outputId": "fe7e2c55-f81f-458d-e1e5-90617343f404"
      },
      "execution_count": 19,
      "outputs": [
        {
          "output_type": "execute_result",
          "data": {
            "text/plain": [
              "'hello'"
            ],
            "application/vnd.google.colaboratory.intrinsic+json": {
              "type": "string"
            }
          },
          "metadata": {},
          "execution_count": 19
        }
      ]
    },
    {
      "cell_type": "code",
      "source": [
        "not ''                  # blank is false so not is reverse of that"
      ],
      "metadata": {
        "colab": {
          "base_uri": "https://localhost:8080/"
        },
        "id": "Kio6Ykt8--Mf",
        "outputId": "419df71f-ebb1-46fa-df59-a18b5861efa6"
      },
      "execution_count": 1,
      "outputs": [
        {
          "output_type": "execute_result",
          "data": {
            "text/plain": [
              "True"
            ]
          },
          "metadata": {},
          "execution_count": 1
        }
      ]
    },
    {
      "cell_type": "code",
      "source": [
        "not 'hello'"
      ],
      "metadata": {
        "colab": {
          "base_uri": "https://localhost:8080/"
        },
        "id": "NDwMul3K_DIo",
        "outputId": "76dfcee9-934a-43dc-f8df-4c274a55326b"
      },
      "execution_count": 2,
      "outputs": [
        {
          "output_type": "execute_result",
          "data": {
            "text/plain": [
              "False"
            ]
          },
          "metadata": {},
          "execution_count": 2
        }
      ]
    },
    {
      "cell_type": "markdown",
      "source": [
        "**Loops on Strings:**"
      ],
      "metadata": {
        "id": "r28aFXhe_y15"
      }
    },
    {
      "cell_type": "code",
      "source": [
        "for i in 'hello':\n",
        " print(i)\n",
        "\n",
        " #so string in py is iterable, can apply loop on string"
      ],
      "metadata": {
        "colab": {
          "base_uri": "https://localhost:8080/"
        },
        "id": "CYyHcmNL_ji3",
        "outputId": "36dd9c47-0a5c-419b-c8c5-f1537b189fac"
      },
      "execution_count": 4,
      "outputs": [
        {
          "output_type": "stream",
          "name": "stdout",
          "text": [
            "h\n",
            "e\n",
            "l\n",
            "l\n",
            "o\n"
          ]
        }
      ]
    },
    {
      "cell_type": "code",
      "source": [
        "for i in 'delhi':\n",
        " print('pune')"
      ],
      "metadata": {
        "colab": {
          "base_uri": "https://localhost:8080/"
        },
        "id": "acX0saNuAdWc",
        "outputId": "25b1912d-2bb2-482d-9a0a-35379a6a8a04"
      },
      "execution_count": 8,
      "outputs": [
        {
          "output_type": "stream",
          "name": "stdout",
          "text": [
            "pune\n",
            "pune\n",
            "pune\n",
            "pune\n",
            "pune\n"
          ]
        }
      ]
    },
    {
      "cell_type": "markdown",
      "source": [
        "**Membership Operations:**"
      ],
      "metadata": {
        "id": "GJYWy1d2B37t"
      }
    },
    {
      "cell_type": "code",
      "source": [
        "'D' in 'Delhi'"
      ],
      "metadata": {
        "colab": {
          "base_uri": "https://localhost:8080/"
        },
        "id": "UsY1b4-xAx9J",
        "outputId": "4c042493-e4fd-41bf-f922-614915665cd5"
      },
      "execution_count": 9,
      "outputs": [
        {
          "output_type": "execute_result",
          "data": {
            "text/plain": [
              "True"
            ]
          },
          "metadata": {},
          "execution_count": 9
        }
      ]
    },
    {
      "cell_type": "code",
      "source": [
        "'D' not in 'Delhi'"
      ],
      "metadata": {
        "colab": {
          "base_uri": "https://localhost:8080/"
        },
        "id": "S8-QxjLRA6IA",
        "outputId": "892de111-b83a-40db-dc4f-c24bee228a53"
      },
      "execution_count": 10,
      "outputs": [
        {
          "output_type": "execute_result",
          "data": {
            "text/plain": [
              "False"
            ]
          },
          "metadata": {},
          "execution_count": 10
        }
      ]
    },
    {
      "cell_type": "code",
      "source": [
        "'D' in 'delhi'"
      ],
      "metadata": {
        "colab": {
          "base_uri": "https://localhost:8080/"
        },
        "id": "bbAl1l_ZA9fc",
        "outputId": "0b0c962c-efeb-4210-9920-61a3d0b7b893"
      },
      "execution_count": 13,
      "outputs": [
        {
          "output_type": "execute_result",
          "data": {
            "text/plain": [
              "False"
            ]
          },
          "metadata": {},
          "execution_count": 13
        }
      ]
    },
    {
      "cell_type": "markdown",
      "source": [
        " **STRING FUNCTIONS**"
      ],
      "metadata": {
        "id": "dDvwDc4KCIlA"
      }
    },
    {
      "cell_type": "code",
      "source": [
        "#Length       (mostly used in NLP)\n",
        "len('hello world')"
      ],
      "metadata": {
        "colab": {
          "base_uri": "https://localhost:8080/"
        },
        "id": "IxnrSkcICD4Y",
        "outputId": "f9a09b30-0c53-4652-e398-b87abb0da016"
      },
      "execution_count": 16,
      "outputs": [
        {
          "output_type": "execute_result",
          "data": {
            "text/plain": [
              "11"
            ]
          },
          "metadata": {},
          "execution_count": 16
        }
      ]
    },
    {
      "cell_type": "code",
      "source": [
        "#Max\n",
        "max('hello world')"
      ],
      "metadata": {
        "colab": {
          "base_uri": "https://localhost:8080/",
          "height": 35
        },
        "id": "wnN_8oSwH_cS",
        "outputId": "26820342-83d1-4af0-b759-902a55e04adc"
      },
      "execution_count": 17,
      "outputs": [
        {
          "output_type": "execute_result",
          "data": {
            "text/plain": [
              "'w'"
            ],
            "application/vnd.google.colaboratory.intrinsic+json": {
              "type": "string"
            }
          },
          "metadata": {},
          "execution_count": 17
        }
      ]
    },
    {
      "cell_type": "code",
      "source": [
        "#Min\n",
        "min('hello world')"
      ],
      "metadata": {
        "colab": {
          "base_uri": "https://localhost:8080/",
          "height": 35
        },
        "id": "MDC-rf9QIYOs",
        "outputId": "689cb853-93eb-4d96-f081-ce34bac09786"
      },
      "execution_count": 18,
      "outputs": [
        {
          "output_type": "execute_result",
          "data": {
            "text/plain": [
              "' '"
            ],
            "application/vnd.google.colaboratory.intrinsic+json": {
              "type": "string"
            }
          },
          "metadata": {},
          "execution_count": 18
        }
      ]
    },
    {
      "cell_type": "code",
      "source": [
        "#Sorted      (output is a list)\n",
        "sorted('hello world', reverse = True)"
      ],
      "metadata": {
        "colab": {
          "base_uri": "https://localhost:8080/"
        },
        "id": "K3EgLd2kIe06",
        "outputId": "d9b6332f-606c-4585-f00c-6e7efad700a6"
      },
      "execution_count": 19,
      "outputs": [
        {
          "output_type": "execute_result",
          "data": {
            "text/plain": [
              "['w', 'r', 'o', 'o', 'l', 'l', 'l', 'h', 'e', 'd', ' ']"
            ]
          },
          "metadata": {},
          "execution_count": 19
        }
      ]
    },
    {
      "cell_type": "markdown",
      "source": [
        "**Capitalize |Title |Upper |Lower |Swapcase**"
      ],
      "metadata": {
        "id": "dOVFQOoGpUKQ"
      }
    },
    {
      "cell_type": "code",
      "source": [
        "#capitalize\n",
        "s = 'hello world'\n",
        "s.capitalize()"
      ],
      "metadata": {
        "colab": {
          "base_uri": "https://localhost:8080/",
          "height": 35
        },
        "id": "S4CvoPOUp7HO",
        "outputId": "31acd8b3-9cd7-4f8f-95b6-442d0ce5f1ee"
      },
      "execution_count": 25,
      "outputs": [
        {
          "output_type": "execute_result",
          "data": {
            "text/plain": [
              "'Hello world'"
            ],
            "application/vnd.google.colaboratory.intrinsic+json": {
              "type": "string"
            }
          },
          "metadata": {},
          "execution_count": 25
        }
      ]
    },
    {
      "cell_type": "code",
      "source": [
        "#title\n",
        "s.title()"
      ],
      "metadata": {
        "colab": {
          "base_uri": "https://localhost:8080/",
          "height": 35
        },
        "id": "407LG0HCqCZ2",
        "outputId": "1ff0e8c7-5e34-435c-e7de-b60d57af392b"
      },
      "execution_count": 26,
      "outputs": [
        {
          "output_type": "execute_result",
          "data": {
            "text/plain": [
              "'Hello World'"
            ],
            "application/vnd.google.colaboratory.intrinsic+json": {
              "type": "string"
            }
          },
          "metadata": {},
          "execution_count": 26
        }
      ]
    },
    {
      "cell_type": "code",
      "source": [
        "#upper\n",
        "s.upper()"
      ],
      "metadata": {
        "colab": {
          "base_uri": "https://localhost:8080/",
          "height": 35
        },
        "id": "D42-anGdqZSw",
        "outputId": "664350f6-fef0-4c03-e527-ad4d6a9daa20"
      },
      "execution_count": 27,
      "outputs": [
        {
          "output_type": "execute_result",
          "data": {
            "text/plain": [
              "'HELLO WORLD'"
            ],
            "application/vnd.google.colaboratory.intrinsic+json": {
              "type": "string"
            }
          },
          "metadata": {},
          "execution_count": 27
        }
      ]
    },
    {
      "cell_type": "code",
      "source": [
        "#lower\n",
        "s.lower()"
      ],
      "metadata": {
        "colab": {
          "base_uri": "https://localhost:8080/",
          "height": 35
        },
        "id": "0pCKkAJhqb-o",
        "outputId": "608b3315-35fa-4594-e3c2-ed2212b279d1"
      },
      "execution_count": 30,
      "outputs": [
        {
          "output_type": "execute_result",
          "data": {
            "text/plain": [
              "'hello world'"
            ],
            "application/vnd.google.colaboratory.intrinsic+json": {
              "type": "string"
            }
          },
          "metadata": {},
          "execution_count": 30
        }
      ]
    },
    {
      "cell_type": "code",
      "source": [
        "#swapcase\n",
        "'Hello World'.swapcase()"
      ],
      "metadata": {
        "colab": {
          "base_uri": "https://localhost:8080/",
          "height": 35
        },
        "id": "BJPC2xftqkfq",
        "outputId": "1d341a75-f52f-4d67-ad9d-e030d36f6112"
      },
      "execution_count": 32,
      "outputs": [
        {
          "output_type": "execute_result",
          "data": {
            "text/plain": [
              "'hELLO wORLD'"
            ],
            "application/vnd.google.colaboratory.intrinsic+json": {
              "type": "string"
            }
          },
          "metadata": {},
          "execution_count": 32
        }
      ]
    },
    {
      "cell_type": "markdown",
      "source": [
        " **Count |Find |Index**"
      ],
      "metadata": {
        "id": "oI8KzlNpq72y"
      }
    },
    {
      "cell_type": "code",
      "source": [
        "#count\n",
        "'my name is arub'.count('u')\n",
        "#use to calculate frequency count in a string"
      ],
      "metadata": {
        "colab": {
          "base_uri": "https://localhost:8080/"
        },
        "id": "hYLfq6OSrEDy",
        "outputId": "4f60e310-eee5-4036-90f1-9022001d4a6f"
      },
      "execution_count": 35,
      "outputs": [
        {
          "output_type": "execute_result",
          "data": {
            "text/plain": [
              "1"
            ]
          },
          "metadata": {},
          "execution_count": 35
        }
      ]
    },
    {
      "cell_type": "code",
      "source": [
        "#find\n",
        "'my name is arub and i live in kashmir'.find('arub')"
      ],
      "metadata": {
        "colab": {
          "base_uri": "https://localhost:8080/"
        },
        "id": "snhYg8r_rZWt",
        "outputId": "bf593b78-d442-438a-f7d6-467e9efbeed7"
      },
      "execution_count": 37,
      "outputs": [
        {
          "output_type": "execute_result",
          "data": {
            "text/plain": [
              "11"
            ]
          },
          "metadata": {},
          "execution_count": 37
        }
      ]
    },
    {
      "cell_type": "code",
      "source": [
        "#index\n",
        "'my name is arub'.index('x')\n",
        "# this fnc throws erroe when we are searching\n",
        "#something that is not in a string"
      ],
      "metadata": {
        "colab": {
          "base_uri": "https://localhost:8080/",
          "height": 139
        },
        "collapsed": true,
        "id": "bxXG3SlCr6A0",
        "outputId": "f6294253-b1f7-497f-eba6-6cca1c9e28ce"
      },
      "execution_count": 40,
      "outputs": [
        {
          "output_type": "error",
          "ename": "ValueError",
          "evalue": "substring not found",
          "traceback": [
            "\u001b[0;31m---------------------------------------------------------------------------\u001b[0m",
            "\u001b[0;31mValueError\u001b[0m                                Traceback (most recent call last)",
            "\u001b[0;32m/tmp/ipython-input-756822565.py\u001b[0m in \u001b[0;36m<cell line: 0>\u001b[0;34m()\u001b[0m\n\u001b[0;32m----> 1\u001b[0;31m \u001b[0;34m'my name is arub'\u001b[0m\u001b[0;34m.\u001b[0m\u001b[0mindex\u001b[0m\u001b[0;34m(\u001b[0m\u001b[0;34m'x'\u001b[0m\u001b[0;34m)\u001b[0m\u001b[0;34m\u001b[0m\u001b[0;34m\u001b[0m\u001b[0m\n\u001b[0m",
            "\u001b[0;31mValueError\u001b[0m: substring not found"
          ]
        }
      ]
    },
    {
      "cell_type": "markdown",
      "source": [
        "**Endswith| Startswith**"
      ],
      "metadata": {
        "id": "_CkPdcDNsQvj"
      }
    },
    {
      "cell_type": "code",
      "source": [
        "#endswith\n",
        "'my name is arub'.endswith('is')"
      ],
      "metadata": {
        "colab": {
          "base_uri": "https://localhost:8080/"
        },
        "id": "wBfnsScZsMOh",
        "outputId": "9cbfbae3-16be-4643-990a-489d35b1f5a9"
      },
      "execution_count": 41,
      "outputs": [
        {
          "output_type": "execute_result",
          "data": {
            "text/plain": [
              "False"
            ]
          },
          "metadata": {},
          "execution_count": 41
        }
      ]
    },
    {
      "cell_type": "code",
      "source": [
        "#startswith\n",
        "'my name is arub'.endswith('arub')"
      ],
      "metadata": {
        "colab": {
          "base_uri": "https://localhost:8080/"
        },
        "id": "FqcFzuaJscs7",
        "outputId": "1316e0f0-8e3e-4f87-c003-5632f0d658b4"
      },
      "execution_count": 42,
      "outputs": [
        {
          "output_type": "execute_result",
          "data": {
            "text/plain": [
              "True"
            ]
          },
          "metadata": {},
          "execution_count": 42
        }
      ]
    },
    {
      "cell_type": "code",
      "source": [
        "#startswith\n",
        "'my name is arub'.startswith('is')"
      ],
      "metadata": {
        "colab": {
          "base_uri": "https://localhost:8080/"
        },
        "id": "mbSPDVWwsgVr",
        "outputId": "4765e9c9-1931-4b6d-eead-8503460084a9"
      },
      "execution_count": 44,
      "outputs": [
        {
          "output_type": "execute_result",
          "data": {
            "text/plain": [
              "False"
            ]
          },
          "metadata": {},
          "execution_count": 44
        }
      ]
    },
    {
      "cell_type": "markdown",
      "source": [
        "**Format**"
      ],
      "metadata": {
        "id": "FAaiXFnis5Fk"
      }
    },
    {
      "cell_type": "code",
      "source": [
        "name = 'silvia'\n",
        "gender = 'female'\n",
        "'Hi my name is {} and i am a {}'.format(name,gender)\n",
        "\n",
        "#'Hi my name is {1} and i am a {0}'.format(name,gender)\n",
        "#can also decide positioning\n",
        "#this fnc inserts value of variables into string\n",
        "#real life : in websites where users have diff names"
      ],
      "metadata": {
        "colab": {
          "base_uri": "https://localhost:8080/",
          "height": 35
        },
        "id": "X0dpXy2Os4wR",
        "outputId": "0a3ba182-139d-4e7f-d11a-4ec24aec1328"
      },
      "execution_count": 45,
      "outputs": [
        {
          "output_type": "execute_result",
          "data": {
            "text/plain": [
              "'Hi my name is silvia and i am a female'"
            ],
            "application/vnd.google.colaboratory.intrinsic+json": {
              "type": "string"
            }
          },
          "metadata": {},
          "execution_count": 45
        }
      ]
    },
    {
      "cell_type": "markdown",
      "source": [
        "**Note:** Strings in python are immutable\n",
        ", here we capitalize etc not changing\n",
        "the actual string but forming other function ."
      ],
      "metadata": {
        "id": "oKt5Hzk_wwU6"
      }
    },
    {
      "cell_type": "markdown",
      "source": [
        "**Isalnum| Isalpha| Isdigit| Isidentifier**"
      ],
      "metadata": {
        "id": "C3xBxpQoxFCv"
      }
    },
    {
      "cell_type": "code",
      "source": [
        "#isalnum\n",
        "'arub1234%'.isalnum()"
      ],
      "metadata": {
        "colab": {
          "base_uri": "https://localhost:8080/"
        },
        "id": "Lz2cP3PNxC61",
        "outputId": "ecfbb7df-8031-4adc-cff6-181be93c388e"
      },
      "execution_count": 47,
      "outputs": [
        {
          "output_type": "execute_result",
          "data": {
            "text/plain": [
              "False"
            ]
          },
          "metadata": {},
          "execution_count": 47
        }
      ]
    },
    {
      "cell_type": "code",
      "source": [
        "#isalpha\n",
        "'arub1234%'.isalnum()"
      ],
      "metadata": {
        "colab": {
          "base_uri": "https://localhost:8080/"
        },
        "id": "EGzNWKeNxXyc",
        "outputId": "f99452b7-68fe-49f3-bdbc-13dbf3a0e926"
      },
      "execution_count": 48,
      "outputs": [
        {
          "output_type": "execute_result",
          "data": {
            "text/plain": [
              "False"
            ]
          },
          "metadata": {},
          "execution_count": 48
        }
      ]
    },
    {
      "cell_type": "code",
      "source": [
        "'arubhamdani'.isalpha()"
      ],
      "metadata": {
        "colab": {
          "base_uri": "https://localhost:8080/"
        },
        "id": "10vk19o0xcL4",
        "outputId": "d0f45ffb-7980-4878-eb97-d38580bca2a8"
      },
      "execution_count": 50,
      "outputs": [
        {
          "output_type": "execute_result",
          "data": {
            "text/plain": [
              "True"
            ]
          },
          "metadata": {},
          "execution_count": 50
        }
      ]
    },
    {
      "cell_type": "code",
      "source": [
        "#isdidgit\n",
        "'12345'.isdigit()"
      ],
      "metadata": {
        "colab": {
          "base_uri": "https://localhost:8080/"
        },
        "id": "9RnOBTUVxmlz",
        "outputId": "69bce858-c24b-4416-a62b-e3855faa2422"
      },
      "execution_count": 51,
      "outputs": [
        {
          "output_type": "execute_result",
          "data": {
            "text/plain": [
              "True"
            ]
          },
          "metadata": {},
          "execution_count": 51
        }
      ]
    },
    {
      "cell_type": "code",
      "source": [
        "#isidentifier\n",
        "'1name'.isidentifier()"
      ],
      "metadata": {
        "colab": {
          "base_uri": "https://localhost:8080/"
        },
        "id": "5itgRY4cxuNT",
        "outputId": "3e15363a-e2a4-49dc-8b0d-a70406ac22f6"
      },
      "execution_count": 52,
      "outputs": [
        {
          "output_type": "execute_result",
          "data": {
            "text/plain": [
              "False"
            ]
          },
          "metadata": {},
          "execution_count": 52
        }
      ]
    },
    {
      "cell_type": "code",
      "source": [
        "'first_name'.isidentifier()"
      ],
      "metadata": {
        "colab": {
          "base_uri": "https://localhost:8080/"
        },
        "id": "9MvEOD0Ax3TE",
        "outputId": "cd310d17-3137-45c9-dd9d-ea151871405b"
      },
      "execution_count": 53,
      "outputs": [
        {
          "output_type": "execute_result",
          "data": {
            "text/plain": [
              "True"
            ]
          },
          "metadata": {},
          "execution_count": 53
        }
      ]
    },
    {
      "cell_type": "code",
      "source": [
        "'first-name'.isidentifier()"
      ],
      "metadata": {
        "colab": {
          "base_uri": "https://localhost:8080/"
        },
        "id": "1scVyyULx-4W",
        "outputId": "873e1846-98fd-4f9e-f932-dff15b707a88"
      },
      "execution_count": 54,
      "outputs": [
        {
          "output_type": "execute_result",
          "data": {
            "text/plain": [
              "False"
            ]
          },
          "metadata": {},
          "execution_count": 54
        }
      ]
    },
    {
      "cell_type": "markdown",
      "source": [
        "**Split| Join**\n",
        "\n",
        "mostly used"
      ],
      "metadata": {
        "id": "7Rl2o_oZyTkU"
      }
    },
    {
      "cell_type": "code",
      "source": [
        "#split\n",
        "'hi my name is arub'.split()"
      ],
      "metadata": {
        "colab": {
          "base_uri": "https://localhost:8080/"
        },
        "id": "N735fuBYyTHX",
        "outputId": "4c685ad2-5f4b-479a-eb93-a36ba1065099"
      },
      "execution_count": 55,
      "outputs": [
        {
          "output_type": "execute_result",
          "data": {
            "text/plain": [
              "['hi', 'my', 'name', 'is', 'arub']"
            ]
          },
          "metadata": {},
          "execution_count": 55
        }
      ]
    },
    {
      "cell_type": "code",
      "source": [
        "'hi my name is arub'.split('i')"
      ],
      "metadata": {
        "colab": {
          "base_uri": "https://localhost:8080/"
        },
        "id": "GviCQueUyePV",
        "outputId": "c9d85d75-d022-4e44-bb8c-c27e1413d157"
      },
      "execution_count": 56,
      "outputs": [
        {
          "output_type": "execute_result",
          "data": {
            "text/plain": [
              "['h', ' my name ', 's arub']"
            ]
          },
          "metadata": {},
          "execution_count": 56
        }
      ]
    },
    {
      "cell_type": "code",
      "source": [
        "#join\n",
        "\" \".join(['hi', 'my', 'name', 'is', 'arub'])"
      ],
      "metadata": {
        "colab": {
          "base_uri": "https://localhost:8080/",
          "height": 35
        },
        "id": "vC6ao08Syl1h",
        "outputId": "f931dc52-12e8-41f0-f503-56d403b59c53"
      },
      "execution_count": 58,
      "outputs": [
        {
          "output_type": "execute_result",
          "data": {
            "text/plain": [
              "'hi my name is arub'"
            ],
            "application/vnd.google.colaboratory.intrinsic+json": {
              "type": "string"
            }
          },
          "metadata": {},
          "execution_count": 58
        }
      ]
    },
    {
      "cell_type": "markdown",
      "source": [
        "**Replace**"
      ],
      "metadata": {
        "id": "V_qUZAWxyyzP"
      }
    },
    {
      "cell_type": "code",
      "source": [
        "'hi my name is arub'.replace('arub','suzain')"
      ],
      "metadata": {
        "colab": {
          "base_uri": "https://localhost:8080/",
          "height": 35
        },
        "id": "BJPqufdUywo_",
        "outputId": "d6f0d13f-c360-4edc-84d8-8b7a302565a5"
      },
      "execution_count": 60,
      "outputs": [
        {
          "output_type": "execute_result",
          "data": {
            "text/plain": [
              "'hi my name is suzain'"
            ],
            "application/vnd.google.colaboratory.intrinsic+json": {
              "type": "string"
            }
          },
          "metadata": {},
          "execution_count": 60
        }
      ]
    },
    {
      "cell_type": "markdown",
      "source": [
        "**Strip**"
      ],
      "metadata": {
        "id": "P_-RhQfjzIXK"
      }
    },
    {
      "cell_type": "code",
      "source": [
        "'arub                      '.strip()\n",
        "\n",
        "#mostly used in web development, ex: in reg form user typed\n",
        "#name with a lot of spaces between this fnc rectifies that in a database"
      ],
      "metadata": {
        "colab": {
          "base_uri": "https://localhost:8080/",
          "height": 35
        },
        "id": "4aZkao6ezKyF",
        "outputId": "4d24fc01-837d-427d-f978-4a892e51d8ce"
      },
      "execution_count": 61,
      "outputs": [
        {
          "output_type": "execute_result",
          "data": {
            "text/plain": [
              "'arub'"
            ],
            "application/vnd.google.colaboratory.intrinsic+json": {
              "type": "string"
            }
          },
          "metadata": {},
          "execution_count": 61
        }
      ]
    }
  ]
}