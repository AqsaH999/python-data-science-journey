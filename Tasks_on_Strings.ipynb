{
  "nbformat": 4,
  "nbformat_minor": 0,
  "metadata": {
    "colab": {
      "provenance": [],
      "authorship_tag": "ABX9TyMNNJZdd4D4Yg7V1NnqS0Ue",
      "include_colab_link": true
    },
    "kernelspec": {
      "name": "python3",
      "display_name": "Python 3"
    },
    "language_info": {
      "name": "python"
    }
  },
  "cells": [
    {
      "cell_type": "markdown",
      "metadata": {
        "id": "view-in-github",
        "colab_type": "text"
      },
      "source": [
        "<a href=\"https://colab.research.google.com/github/AqsaH999/python-data-science-journey/blob/main/Tasks_on_Strings.ipynb\" target=\"_parent\"><img src=\"https://colab.research.google.com/assets/colab-badge.svg\" alt=\"Open In Colab\"/></a>"
      ]
    },
    {
      "cell_type": "markdown",
      "source": [
        "**Questions on strings:**"
      ],
      "metadata": {
        "id": "ndavpJX_1RLX"
      }
    },
    {
      "cell_type": "code",
      "execution_count": 7,
      "metadata": {
        "colab": {
          "base_uri": "https://localhost:8080/"
        },
        "id": "30yHdSRo0yaS",
        "outputId": "817ef606-6669-4ce5-ffc4-f2fbc16b472c"
      },
      "outputs": [
        {
          "output_type": "stream",
          "name": "stdout",
          "text": [
            "Enter the string - Umbrella\n",
            "length of string is 8\n"
          ]
        }
      ],
      "source": [
        "## Find the length of a given string without using the len() function\n",
        "\n",
        "s = input('Enter the string - ')\n",
        "\n",
        "counter = 0\n",
        "\n",
        "for i in s:\n",
        "  counter += 1\n",
        "\n",
        "print('length of string is', counter)\n"
      ]
    },
    {
      "cell_type": "code",
      "source": [
        "## Extract username from a given email.\n",
        "# Eg if the email is aqsahamdani09@gmail.com\n",
        "# then the username should be aqsahamdani09\n",
        "\n",
        "s = input('Enter the email -')\n",
        "\n",
        "pos = s.index('@')\n",
        "print(s[0:pos])\n",
        "\n"
      ],
      "metadata": {
        "colab": {
          "base_uri": "https://localhost:8080/"
        },
        "id": "_sdac_qu36ml",
        "outputId": "d0ffae15-ac30-404e-f3b2-2450000f9f18"
      },
      "execution_count": 9,
      "outputs": [
        {
          "output_type": "stream",
          "name": "stdout",
          "text": [
            "Enter the email -sabiyaroohi07@gmail.com\n",
            "sabiyaroohi07\n"
          ]
        }
      ]
    },
    {
      "cell_type": "code",
      "source": [
        "## Count the frequency of a particular character in a provided string.\n",
        "# Ex: 'hello how are you' is the string, the frequency of h in this string is 2.\n",
        "\n",
        "s = input('Enter the sentence - ')\n",
        "term =input ('What would you like to count? - ')\n",
        "\n",
        "counter = 0\n",
        "for i in s:\n",
        "  if i == term:\n",
        "    counter +=1\n",
        "\n",
        "print('frequency', counter)\n"
      ],
      "metadata": {
        "colab": {
          "base_uri": "https://localhost:8080/"
        },
        "id": "HYYVmc9b5O6P",
        "outputId": "ca1bc802-2b57-481d-bb35-0df5c09c61cc"
      },
      "execution_count": 12,
      "outputs": [
        {
          "output_type": "stream",
          "name": "stdout",
          "text": [
            "Enter the sentence - hello how are you\n",
            "What would you like to count? - o\n",
            "frequency 3\n"
          ]
        }
      ]
    },
    {
      "cell_type": "code",
      "source": [
        "## Write a program which can remove a particular character from a string.\n",
        "\n",
        "s = input('Enter the sentence - ')\n",
        "term =input ('What would you like to remove? - ')\n",
        "\n",
        "result = ''\n",
        "\n",
        "for i in s:\n",
        "  if i != term:\n",
        "    result = result + i\n",
        "\n",
        "print(result)\n",
        "\n"
      ],
      "metadata": {
        "colab": {
          "base_uri": "https://localhost:8080/"
        },
        "id": "dgxCR_7s7DDq",
        "outputId": "ec9d2d3e-0c3e-40c5-bec6-5e37ef6205b7"
      },
      "execution_count": 17,
      "outputs": [
        {
          "output_type": "stream",
          "name": "stdout",
          "text": [
            "Enter the sentence - Arubaa\n",
            "What would you like to remove? - a\n",
            "Arub\n"
          ]
        }
      ]
    },
    {
      "cell_type": "code",
      "source": [
        "## Write a program that can check whether a given string is palindrome or not.\n",
        "#Ex: abba\n",
        "#Ex: Malayalam\n",
        "#Ex: aqa\n",
        "\n",
        "s = input('Enter the sentence - ')\n",
        "flag = True\n",
        "for i in range(0,len(s)//2):\n",
        "  if s[i] != s[len(s) -i -1]:\n",
        "    flag = 'False'\n",
        "    print('Not a palindrome')\n",
        "    break\n",
        "\n",
        "if flag:\n",
        "   print('palindrome')"
      ],
      "metadata": {
        "colab": {
          "base_uri": "https://localhost:8080/"
        },
        "id": "KDSNHF3J9xO3",
        "outputId": "dd07fd66-9599-4701-f095-242919fe62b1"
      },
      "execution_count": 28,
      "outputs": [
        {
          "output_type": "stream",
          "name": "stdout",
          "text": [
            "Enter the sentence - aqsa\n",
            "Not a palindrome\n",
            "palindrome\n"
          ]
        }
      ]
    },
    {
      "cell_type": "code",
      "source": [
        "## Write a program to count the number of words in a string without split()\n",
        "\n",
        "s = input('Enter the string - ')\n",
        "L= []\n",
        "temp= ''\n",
        "for i in s:\n",
        "\n",
        "  if i != ' ':\n",
        "    temp = temp + i\n",
        "  else:\n",
        "    L.append(temp)\n",
        "    temp=''\n",
        "\n",
        "L.append(temp)                  #append prints the list\n",
        "print(L)\n",
        "\n",
        "\n",
        "\n"
      ],
      "metadata": {
        "colab": {
          "base_uri": "https://localhost:8080/"
        },
        "id": "p3lTwyciN0ZQ",
        "outputId": "5cf25ef2-0cc7-4abc-d6de-cf18c0ed9551"
      },
      "execution_count": 5,
      "outputs": [
        {
          "output_type": "stream",
          "name": "stdout",
          "text": [
            "Enter the string - Hi How are you\n",
            "['Hi', 'How', 'are', 'you']\n"
          ]
        }
      ]
    },
    {
      "cell_type": "code",
      "source": [
        "## Write a python program to convert a string to title case without using the title()\n",
        "s = input('enter the string')\n",
        "\n",
        "L=[]\n",
        "for i in s.split():\n",
        "  L.append(i[0].upper()+ i[1:].lower())    #1: is 1 onwards\n",
        "print(\" \".join(L))\n",
        ""
      ],
      "metadata": {
        "colab": {
          "base_uri": "https://localhost:8080/"
        },
        "id": "onFEbXXSRTCC",
        "outputId": "70255d77-7490-45bf-9239-7a8fa071f2a3"
      },
      "execution_count": 20,
      "outputs": [
        {
          "output_type": "stream",
          "name": "stdout",
          "text": [
            "enter the stringmy name is aqsa hamdnai\n",
            "My Name Is Aqsa Hamdnai\n"
          ]
        }
      ]
    },
    {
      "cell_type": "code",
      "source": [
        "## Write a program that can convert an integer to string.\n",
        "\n",
        "number = int(input('enter the number'))\n",
        "\n",
        "digits ='0123456789'\n",
        "result = ''\n",
        "while number != 0 :\n",
        "  result = digits[number% 10] + result\n",
        "  number = number//10\n",
        "\n",
        "print(result)\n",
        "print(type(result))"
      ],
      "metadata": {
        "colab": {
          "base_uri": "https://localhost:8080/"
        },
        "id": "4Eykh9SLUGIH",
        "outputId": "0222eb7c-79be-4649-e550-a87141a3f54a"
      },
      "execution_count": 28,
      "outputs": [
        {
          "output_type": "stream",
          "name": "stdout",
          "text": [
            "enter the number778\n",
            "778\n",
            "<class 'str'>\n"
          ]
        }
      ]
    }
  ]
}