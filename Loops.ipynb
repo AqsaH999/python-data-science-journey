{
  "nbformat": 4,
  "nbformat_minor": 0,
  "metadata": {
    "colab": {
      "provenance": [],
      "authorship_tag": "ABX9TyMdw0wlrmHNNtJ6truT0Hex",
      "include_colab_link": true
    },
    "kernelspec": {
      "name": "python3",
      "display_name": "Python 3"
    },
    "language_info": {
      "name": "python"
    }
  },
  "cells": [
    {
      "cell_type": "markdown",
      "metadata": {
        "id": "view-in-github",
        "colab_type": "text"
      },
      "source": [
        "<a href=\"https://colab.research.google.com/github/AqsaH999/python-data-science-journey/blob/main/Loops.ipynb\" target=\"_parent\"><img src=\"https://colab.research.google.com/assets/colab-badge.svg\" alt=\"Open In Colab\"/></a>"
      ]
    },
    {
      "cell_type": "markdown",
      "source": [
        "# **LOOPS**\n",
        " Loop is an entity by its use one can run one thing multiple times.\n",
        "\n",
        " Ex:\n",
        "  Loops are used in diffrent softwares like in flipkart the containers foe smasung mobiles are same: phone, description, price.\n",
        "  Zomato restraunts\n",
        "  Hotel listings etc\n",
        "* Hold on loops = good programmer"
      ],
      "metadata": {
        "id": "3nOkq-BuTbSG"
      }
    },
    {
      "cell_type": "markdown",
      "source": [
        "# **WHILE LOOP**"
      ],
      "metadata": {
        "id": "WazO8goLQwRC"
      }
    },
    {
      "cell_type": "code",
      "execution_count": null,
      "metadata": {
        "colab": {
          "base_uri": "https://localhost:8080/"
        },
        "id": "VJgpcVjETYOF",
        "outputId": "a214d6a3-e130-4478-810d-d142c1693c2f"
      },
      "outputs": [
        {
          "output_type": "stream",
          "name": "stdout",
          "text": [
            "Enter the number300\n",
            "300 * 1 = 300\n",
            "300 * 2 = 600\n",
            "300 * 3 = 900\n",
            "300 * 4 = 1200\n",
            "300 * 5 = 1500\n",
            "300 * 6 = 1800\n",
            "300 * 7 = 2100\n",
            "300 * 8 = 2400\n",
            "300 * 9 = 2700\n",
            "300 * 10 = 3000\n"
          ]
        }
      ],
      "source": [
        "## While loop\n",
        "# Examples:\n",
        "# Write a code to print a table\n",
        "\n",
        "number = int(input(('Enter the number')))\n",
        "i = 1                                     # i is iteration\n",
        "while i<11:                               # upto which condition loop will work\n",
        " print(number, '*', i, '=', number * i)\n",
        " i += 1"
      ]
    },
    {
      "cell_type": "markdown",
      "source": [
        "**While Loop with Else**\n",
        "\n"
      ],
      "metadata": {
        "id": "rjtkAGNgKZlE"
      }
    },
    {
      "cell_type": "code",
      "source": [
        "#Example:\n",
        "x = 1\n",
        "while x < 3:\n",
        " print(x)\n",
        " x += 1\n",
        "\n",
        "else:\n",
        "  print('limit crossed')"
      ],
      "metadata": {
        "colab": {
          "base_uri": "https://localhost:8080/"
        },
        "id": "kQDvSda4KVGQ",
        "outputId": "b05d8a8f-19a6-4ecd-fd99-299647f0e9c4"
      },
      "execution_count": null,
      "outputs": [
        {
          "output_type": "stream",
          "name": "stdout",
          "text": [
            "1\n",
            "2\n",
            "limit crossed\n"
          ]
        }
      ]
    },
    {
      "cell_type": "markdown",
      "source": [
        "# **Program 1:**"
      ],
      "metadata": {
        "id": "OcDvagWePw6v"
      }
    },
    {
      "cell_type": "code",
      "source": [
        "# Create a \"guessing game\"\n",
        "\n",
        "#generate a random integer between 1 and 100\n",
        "import random\n",
        "jackpot = random.randint(1,100)\n",
        "\n",
        "guess = int(input('Enter the guess'))\n",
        "counter = 1\n",
        "while guess!= jackpot:\n",
        "  if guess < jackpot:\n",
        "   print('guess higher')\n",
        "  else:\n",
        "   print('guess lower')\n",
        "\n",
        "  guess = int(input('Enter the guess'))\n",
        "  counter += 1\n",
        "\n",
        "else:\n",
        "  print('Your guess is correct, you win a jackpot!!')\n",
        "  print('attempts',counter)\n"
      ],
      "metadata": {
        "colab": {
          "base_uri": "https://localhost:8080/"
        },
        "id": "W1p-PRKvLUvF",
        "outputId": "7c3da084-e9c6-49f4-b2f8-49c5f757d2b1"
      },
      "execution_count": null,
      "outputs": [
        {
          "output_type": "stream",
          "name": "stdout",
          "text": [
            "Enter the guess20\n",
            "guess higher\n",
            "Enter the guess40\n",
            "guess lower\n",
            "Enter the guess24\n",
            "guess higher\n",
            "Enter the guess27\n",
            "guess higher\n",
            "Enter the guess29\n",
            "guess higher\n",
            "Enter the guess35\n",
            "guess lower\n",
            "Enter the guess33\n",
            "guess higher\n",
            "Enter the guess38\n",
            "guess lower\n",
            "Enter the guess37\n",
            "guess lower\n",
            "Enter the guess36\n",
            "guess lower\n",
            "Enter the guess35\n",
            "guess lower\n",
            "Enter the guess32\n",
            "guess higher\n",
            "Enter the guess34\n",
            "Your guess is correct, you win a jackpot!!\n",
            "attempts 13\n"
          ]
        }
      ]
    },
    {
      "cell_type": "markdown",
      "source": [
        "#"
      ],
      "metadata": {
        "id": "wJnDbwBGQ0OL"
      }
    },
    {
      "cell_type": "markdown",
      "source": [
        "# **FOR LOOP**\n",
        " * For loop in py is very diffrent\n",
        "   and very easy from other lang's\n",
        "\n",
        "* it use a fnc called \"range\" . It generates no's between this range\n",
        "\n",
        "* for loop not only iterates over numbers but\n",
        "also on other datatypes. like, strings, tuples, list etc."
      ],
      "metadata": {
        "id": "s7fwXiorQ6WO"
      }
    },
    {
      "cell_type": "code",
      "source": [
        "# iterating over a list\n",
        "for i in (1,2,3,4,5):\n",
        " print(i)"
      ],
      "metadata": {
        "colab": {
          "base_uri": "https://localhost:8080/"
        },
        "id": "jvr0fkfFOa6E",
        "outputId": "75f2a49b-0dce-491b-c592-be2f5c8cdc53"
      },
      "execution_count": null,
      "outputs": [
        {
          "output_type": "stream",
          "name": "stdout",
          "text": [
            "1\n",
            "2\n",
            "3\n",
            "4\n",
            "5\n"
          ]
        }
      ]
    },
    {
      "cell_type": "code",
      "source": [
        "for i in range(1,11):     #in range first no is included and last is not\n",
        "  print(i)"
      ],
      "metadata": {
        "colab": {
          "base_uri": "https://localhost:8080/"
        },
        "id": "kUvACbOAQ4GF",
        "outputId": "7c597749-31be-4010-9e2b-7431d09dd72f"
      },
      "execution_count": null,
      "outputs": [
        {
          "output_type": "stream",
          "name": "stdout",
          "text": [
            "1\n",
            "2\n",
            "3\n",
            "4\n",
            "5\n",
            "6\n",
            "7\n",
            "8\n",
            "9\n",
            "10\n"
          ]
        }
      ]
    },
    {
      "cell_type": "code",
      "source": [
        "# incriment in range function\n",
        "for i in range(1,11,2):             #here 2 is incriment\n",
        "  print(i)"
      ],
      "metadata": {
        "colab": {
          "base_uri": "https://localhost:8080/"
        },
        "id": "vUGvTNfTSF6F",
        "outputId": "709b90af-4c33-4e53-8f41-1ca1b92694b9"
      },
      "execution_count": null,
      "outputs": [
        {
          "output_type": "stream",
          "name": "stdout",
          "text": [
            "1\n",
            "3\n",
            "5\n",
            "7\n",
            "9\n"
          ]
        }
      ]
    },
    {
      "cell_type": "code",
      "source": [
        "# print no's in reverse for 10 to 0\n",
        "for i in range (10,0,-1):          # incriment is -1\n",
        " print(i)\n"
      ],
      "metadata": {
        "colab": {
          "base_uri": "https://localhost:8080/"
        },
        "id": "Zm1eOF9ASUII",
        "outputId": "4853bcb8-f98b-482d-aa9f-be64ce7d1912"
      },
      "execution_count": null,
      "outputs": [
        {
          "output_type": "stream",
          "name": "stdout",
          "text": [
            "10\n",
            "9\n",
            "8\n",
            "7\n",
            "6\n",
            "5\n",
            "4\n",
            "3\n",
            "2\n",
            "1\n"
          ]
        }
      ]
    },
    {
      "cell_type": "code",
      "source": [
        "# for loop can iterate on string also\n",
        "for i in 'Dinosaurus':\n",
        " print(i)"
      ],
      "metadata": {
        "colab": {
          "base_uri": "https://localhost:8080/"
        },
        "id": "ypG7mf81S5ID",
        "outputId": "1447c4be-72c4-4c0c-f53d-9911c9979f50"
      },
      "execution_count": null,
      "outputs": [
        {
          "output_type": "stream",
          "name": "stdout",
          "text": [
            "D\n",
            "i\n",
            "n\n",
            "o\n",
            "s\n",
            "a\n",
            "u\n",
            "r\n",
            "u\n",
            "s\n"
          ]
        }
      ]
    },
    {
      "cell_type": "code",
      "source": [
        "# iterating over a set\n",
        "for i in {1,2,3,4,5}:\n",
        "  print(i)"
      ],
      "metadata": {
        "colab": {
          "base_uri": "https://localhost:8080/"
        },
        "id": "yuESAfcDOljJ",
        "outputId": "2928f343-da17-4225-b10c-fca54d498953"
      },
      "execution_count": null,
      "outputs": [
        {
          "output_type": "stream",
          "name": "stdout",
          "text": [
            "1\n",
            "2\n",
            "3\n",
            "4\n",
            "5\n"
          ]
        }
      ]
    },
    {
      "cell_type": "markdown",
      "source": [
        "## **Program 2:**\n",
        "\n",
        "\n",
        "\n"
      ],
      "metadata": {
        "id": "sl_7x6mIPioH"
      }
    },
    {
      "cell_type": "code",
      "source": [
        "# The current population of a town is 10000. The population of the town is\n",
        "# increasing at the rate of 10% per year. You have to write a program to find\n",
        "# out the population at the end of each of the last 10 years.\n",
        "\n",
        "curr_pop = 10000\n",
        "\n",
        "for i in range(10,0,-1):\n",
        "    print(i, curr_pop)\n",
        "    curr_pop = curr_pop/1.1\n",
        "\n",
        "# this is an example of reverse for loop\n",
        "\n",
        "\n"
      ],
      "metadata": {
        "colab": {
          "base_uri": "https://localhost:8080/"
        },
        "id": "qPaoGzc6PaJa",
        "outputId": "b185d364-532b-4d41-eb9f-b983bd19fc04"
      },
      "execution_count": null,
      "outputs": [
        {
          "output_type": "stream",
          "name": "stdout",
          "text": [
            "10 10000\n",
            "9 9090.90909090909\n",
            "8 8264.462809917353\n",
            "7 7513.148009015775\n",
            "6 6830.134553650703\n",
            "5 6209.213230591548\n",
            "4 5644.739300537771\n",
            "3 5131.5811823070635\n",
            "2 4665.07380209733\n",
            "1 4240.976183724845\n"
          ]
        }
      ]
    },
    {
      "cell_type": "markdown",
      "source": [
        "#"
      ],
      "metadata": {
        "id": "NMJKkfH8ZvMp"
      }
    },
    {
      "cell_type": "markdown",
      "source": [
        "# **Sequence sum**\n",
        "\n",
        "1/1! + 2/2! + 3/3!+......\n",
        "\n",
        "* find the sum to nth term, nth value is given by user"
      ],
      "metadata": {
        "id": "RQ6sugR9Z55y"
      }
    },
    {
      "cell_type": "code",
      "source": [
        "# Example for sequence sum\n",
        "n = int(input(('Enter the value of n')))\n",
        "\n",
        "result = 0\n",
        "fact = 1\n",
        "for i in range (1,n+1):\n",
        " fact = fact * i               #change in i change in fact\n",
        " result = result + i/fact\n",
        "\n",
        "print(result)\n",
        "\n",
        "\n"
      ],
      "metadata": {
        "id": "jEN55Z8bZ13u",
        "colab": {
          "base_uri": "https://localhost:8080/"
        },
        "outputId": "c3adb0ff-1176-4a24-cb4f-a0131d14380c"
      },
      "execution_count": null,
      "outputs": [
        {
          "output_type": "stream",
          "name": "stdout",
          "text": [
            "Enter the value of n4\n",
            "2.6666666666666665\n"
          ]
        }
      ]
    },
    {
      "cell_type": "markdown",
      "source": [
        "## **NESTED LOOPS**\n",
        "\n",
        "* In this concept we run loop in a loop\n"
      ],
      "metadata": {
        "id": "-v-wqWqOXBOM"
      }
    },
    {
      "cell_type": "code",
      "source": [
        "# Examples -> unique pairs\n",
        "## print all the pairs in 1,2,3,4-- 11,12,1314....\n",
        "\n",
        "for i in range(1,5):\n",
        "  for j in range (1,5):\n",
        "    print(1,j)"
      ],
      "metadata": {
        "id": "a85cqIXwXK4P",
        "colab": {
          "base_uri": "https://localhost:8080/"
        },
        "outputId": "595146c9-5c7c-4e4a-a8f7-4a17ba8604c6"
      },
      "execution_count": null,
      "outputs": [
        {
          "output_type": "stream",
          "name": "stdout",
          "text": [
            "1 1\n",
            "1 2\n",
            "1 3\n",
            "1 4\n",
            "1 1\n",
            "1 2\n",
            "1 3\n",
            "1 4\n",
            "1 1\n",
            "1 2\n",
            "1 3\n",
            "1 4\n",
            "1 1\n",
            "1 2\n",
            "1 3\n",
            "1 4\n"
          ]
        }
      ]
    },
    {
      "cell_type": "markdown",
      "source": [
        "# **Pattern 1:**\n",
        "  \n",
        "  \n",
        "       *\n",
        "\n",
        "       **\n",
        "\n",
        "       ***"
      ],
      "metadata": {
        "id": "cde4NdLewMqU"
      }
    },
    {
      "cell_type": "code",
      "source": [
        "# Pattern 1: Row is asteric number\n",
        "\n",
        "rows = int(input('Enter the number of rows'))\n",
        "\n",
        "for i in range(1,rows+1):\n",
        "  for j in range(1,i+1):\n",
        "    print('*',end ='')       #removed /n to no change the line ,astericks of same\n",
        "                             #row in same line\n",
        "  print()                    #using print function here just to change the line\n",
        "\n",
        "\n"
      ],
      "metadata": {
        "colab": {
          "base_uri": "https://localhost:8080/"
        },
        "id": "bGCAXH9nwJh-",
        "outputId": "db6a2d95-8d3f-4616-b17d-0eeebef277c2"
      },
      "execution_count": null,
      "outputs": [
        {
          "output_type": "stream",
          "name": "stdout",
          "text": [
            "Enter the number of rows6\n",
            "*\n",
            "**\n",
            "***\n",
            "****\n",
            "*****\n",
            "******\n"
          ]
        }
      ]
    },
    {
      "cell_type": "markdown",
      "source": [
        "# **Pattern 2:**"
      ],
      "metadata": {
        "id": "tcHfBav6d2Yp"
      }
    },
    {
      "cell_type": "markdown",
      "source": [
        "     1\n",
        "     121\n",
        "     12321\n",
        "     1234321"
      ],
      "metadata": {
        "id": "S1FtDuv4eAkf"
      }
    },
    {
      "cell_type": "code",
      "source": [
        "# Pattern 2:\n",
        "rows = int(input('Enter the number of rows'))\n",
        "\n",
        "for i in range (1,rows+1):\n",
        "  for j in range(1,i+1):\n",
        "    print(j,end='')\n",
        "\n",
        "  for k in range(i-1,0,-1):       #this loop is in brother of j.\n",
        "    print(k,end='')\n",
        "\n",
        "  print()\n"
      ],
      "metadata": {
        "id": "Zd0I5bhUd0fh",
        "colab": {
          "base_uri": "https://localhost:8080/"
        },
        "outputId": "a84b7b42-9be4-48f9-d886-6b3cddd026f6"
      },
      "execution_count": 4,
      "outputs": [
        {
          "output_type": "stream",
          "name": "stdout",
          "text": [
            "Enter the number of rows7\n",
            "1\n",
            "121\n",
            "12321\n",
            "1234321\n",
            "123454321\n",
            "12345654321\n",
            "1234567654321\n"
          ]
        }
      ]
    },
    {
      "cell_type": "markdown",
      "source": [
        "# **LOOP CONTROL STATEMENTS**\n",
        "\n",
        "   \n",
        "\n",
        "*   Break\n",
        "*   Continue\n",
        "*   Pass\n",
        "\n",
        "\n",
        "\n",
        "\n"
      ],
      "metadata": {
        "id": "AMOztWf1fTP3"
      }
    },
    {
      "cell_type": "markdown",
      "source": [
        "**Break Statement:**"
      ],
      "metadata": {
        "id": "6csHo8N1p3DN"
      }
    },
    {
      "cell_type": "code",
      "source": [
        "# Break statement : breaks the loop on meeting a condition\n",
        "for i in range (1,10):\n",
        "  if i == 5:\n",
        "    break                              # here we are as in asking question\n",
        "  print(i)                             # if value of i is 5 to break loop\n",
        "\n",
        ""
      ],
      "metadata": {
        "colab": {
          "base_uri": "https://localhost:8080/"
        },
        "id": "6CKa2nuqfNdA",
        "outputId": "13d5a94b-f06c-4692-dc66-5d783a8aa4d6"
      },
      "execution_count": 5,
      "outputs": [
        {
          "output_type": "stream",
          "name": "stdout",
          "text": [
            "1\n",
            "2\n",
            "3\n",
            "4\n"
          ]
        }
      ]
    },
    {
      "cell_type": "code",
      "source": [
        "# Example : print prime numbers\n",
        "\n",
        "lower = int(input('Enter the lower range'))\n",
        "upper = int(input('Enter the upper range'))\n",
        "\n",
        "for i in range (lower,upper+1):\n",
        "  if i > 1:  # prime numbers are greater than 1\n",
        "   for j in range (2,i):\n",
        "     if i%j == 0:\n",
        "      break\n",
        "   else:\n",
        "    print(i)\n"
      ],
      "metadata": {
        "colab": {
          "base_uri": "https://localhost:8080/"
        },
        "id": "kFYgvvTQhOaa",
        "outputId": "5710bdb7-9a70-4a8c-8c0b-4f27cef5eb83"
      },
      "execution_count": 14,
      "outputs": [
        {
          "output_type": "stream",
          "name": "stdout",
          "text": [
            "Enter the lower range10\n",
            "Enter the upper range20\n",
            "11\n",
            "13\n",
            "17\n",
            "19\n"
          ]
        }
      ]
    },
    {
      "cell_type": "markdown",
      "source": [
        "**Continue Statement:**"
      ],
      "metadata": {
        "id": "WD8sJN9Ko8YX"
      }
    },
    {
      "cell_type": "code",
      "source": [
        "# Continue statement : skips code of current iteration\n",
        "for i in range (1,10):\n",
        "  if i == 5:                 #skips this code\n",
        "    continue\n",
        "  print(i)\n",
        "\n",
        "  # Real life example: skip out of stock items on a website\n"
      ],
      "metadata": {
        "colab": {
          "base_uri": "https://localhost:8080/"
        },
        "id": "v8kaI2p3pCDq",
        "outputId": "68055b62-172c-453e-c9d0-97bc268bfbbb"
      },
      "execution_count": 15,
      "outputs": [
        {
          "output_type": "stream",
          "name": "stdout",
          "text": [
            "1\n",
            "2\n",
            "3\n",
            "4\n",
            "6\n",
            "7\n",
            "8\n",
            "9\n"
          ]
        }
      ]
    },
    {
      "cell_type": "markdown",
      "source": [
        "**Pass Statement:**"
      ],
      "metadata": {
        "id": "It0bXaCYq2ot"
      }
    },
    {
      "cell_type": "code",
      "source": [
        "# Pass statement: just to say to not to through an error rn\n",
        "for i in range (1,10):\n",
        "  pass"
      ],
      "metadata": {
        "id": "Z1iav9w7qx0O"
      },
      "execution_count": 16,
      "outputs": []
    }
  ]
}