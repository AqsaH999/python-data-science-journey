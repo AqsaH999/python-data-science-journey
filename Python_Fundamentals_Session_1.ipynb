{
  "nbformat": 4,
  "nbformat_minor": 0,
  "metadata": {
    "colab": {
      "provenance": [],
      "authorship_tag": "ABX9TyNaUFohTfeADlLQe/87Q40A",
      "include_colab_link": true
    },
    "kernelspec": {
      "name": "python3",
      "display_name": "Python 3"
    },
    "language_info": {
      "name": "python"
    }
  },
  "cells": [
    {
      "cell_type": "markdown",
      "metadata": {
        "id": "view-in-github",
        "colab_type": "text"
      },
      "source": [
        "<a href=\"https://colab.research.google.com/github/AqsaH999/python-data-science-journey/blob/main/Python_Fundamentals_Session_1.ipynb\" target=\"_parent\"><img src=\"https://colab.research.google.com/assets/colab-badge.svg\" alt=\"Open In Colab\"/></a>"
      ]
    },
    {
      "cell_type": "markdown",
      "source": [
        "#         **Python Fundamentals**"
      ],
      "metadata": {
        "id": "UVUf91mEQGUo"
      }
    },
    {
      "cell_type": "markdown",
      "source": [
        "# **1. Python Output - how to print using python**"
      ],
      "metadata": {
        "id": "WvYxVu9EFfgi"
      }
    },
    {
      "cell_type": "code",
      "execution_count": 1,
      "metadata": {
        "colab": {
          "base_uri": "https://localhost:8080/"
        },
        "id": "WvkW9c2nFAVM",
        "outputId": "8ddf8532-1d14-414b-f6a7-795216ec059b"
      },
      "outputs": [
        {
          "output_type": "stream",
          "name": "stdout",
          "text": [
            "Hello! World\n"
          ]
        }
      ],
      "source": [
        "# python is a case sensitive language\n",
        "print('Hello! World')"
      ]
    },
    {
      "cell_type": "code",
      "source": [
        "print('Aqsa Hamdani')"
      ],
      "metadata": {
        "colab": {
          "base_uri": "https://localhost:8080/"
        },
        "id": "qHkVRb0TGcIs",
        "outputId": "07151d59-4d51-4fb2-ce94-4f24ff712f44"
      },
      "execution_count": 2,
      "outputs": [
        {
          "output_type": "stream",
          "name": "stdout",
          "text": [
            "Aqsa Hamdani\n"
          ]
        }
      ]
    },
    {
      "cell_type": "code",
      "source": [
        "#py print fnc doesn't print without quotes\n",
        "print(salman)"
      ],
      "metadata": {
        "collapsed": true,
        "colab": {
          "base_uri": "https://localhost:8080/",
          "height": 156
        },
        "id": "AE_zV_DcGoH1",
        "outputId": "345e9239-4e66-4580-fed4-5feb331544be"
      },
      "execution_count": 45,
      "outputs": [
        {
          "output_type": "error",
          "ename": "NameError",
          "evalue": "name 'salman' is not defined",
          "traceback": [
            "\u001b[0;31m---------------------------------------------------------------------------\u001b[0m",
            "\u001b[0;31mNameError\u001b[0m                                 Traceback (most recent call last)",
            "\u001b[0;32m/tmp/ipython-input-2786562249.py\u001b[0m in \u001b[0;36m<cell line: 0>\u001b[0;34m()\u001b[0m\n\u001b[1;32m      1\u001b[0m \u001b[0;31m#py print fnc doesn't print without quotes\u001b[0m\u001b[0;34m\u001b[0m\u001b[0;34m\u001b[0m\u001b[0m\n\u001b[0;32m----> 2\u001b[0;31m \u001b[0mprint\u001b[0m\u001b[0;34m(\u001b[0m\u001b[0msalman\u001b[0m\u001b[0;34m)\u001b[0m\u001b[0;34m\u001b[0m\u001b[0;34m\u001b[0m\u001b[0m\n\u001b[0m",
            "\u001b[0;31mNameError\u001b[0m: name 'salman' is not defined"
          ]
        }
      ]
    },
    {
      "cell_type": "code",
      "source": [
        "print(7)"
      ],
      "metadata": {
        "colab": {
          "base_uri": "https://localhost:8080/"
        },
        "id": "N07h9uqQGrgs",
        "outputId": "e3002747-d339-426b-bf56-dbb2bd7faa80"
      },
      "execution_count": 46,
      "outputs": [
        {
          "output_type": "stream",
          "name": "stdout",
          "text": [
            "7\n"
          ]
        }
      ]
    },
    {
      "cell_type": "code",
      "source": [
        "print(1.554)"
      ],
      "metadata": {
        "colab": {
          "base_uri": "https://localhost:8080/"
        },
        "id": "8bOhfnvZGtz6",
        "outputId": "e0b5de4c-a57e-42c0-ac07-16ef21014d47"
      },
      "execution_count": 47,
      "outputs": [
        {
          "output_type": "stream",
          "name": "stdout",
          "text": [
            "1.554\n"
          ]
        }
      ]
    },
    {
      "cell_type": "code",
      "source": [
        "print(0)"
      ],
      "metadata": {
        "id": "c_eEPLAeGwuo",
        "colab": {
          "base_uri": "https://localhost:8080/"
        },
        "outputId": "66236841-1a7d-44a1-fd81-fac5470ce4a3"
      },
      "execution_count": 48,
      "outputs": [
        {
          "output_type": "stream",
          "name": "stdout",
          "text": [
            "0\n"
          ]
        }
      ]
    },
    {
      "cell_type": "code",
      "source": [
        "# multiple print in pythons print function , very powerful\n",
        "print('Hello',1,4.5,9,True)"
      ],
      "metadata": {
        "colab": {
          "base_uri": "https://localhost:8080/"
        },
        "id": "ykb82UitG2-C",
        "outputId": "86dd4a22-8a82-493f-8dd6-cfff6013f535"
      },
      "execution_count": 49,
      "outputs": [
        {
          "output_type": "stream",
          "name": "stdout",
          "text": [
            "Hello 1 4.5 9 True\n"
          ]
        }
      ]
    },
    {
      "cell_type": "code",
      "source": [
        "# Overwriting the sep='' to change the output\n",
        "print('Hello',1,4.5,9,True,sep='/')"
      ],
      "metadata": {
        "colab": {
          "base_uri": "https://localhost:8080/"
        },
        "id": "q1rPcdfqHMcO",
        "outputId": "ea694177-8d1d-4686-e3dd-75acc54017b9"
      },
      "execution_count": 50,
      "outputs": [
        {
          "output_type": "stream",
          "name": "stdout",
          "text": [
            "Hello/1/4.5/9/True\n"
          ]
        }
      ]
    },
    {
      "cell_type": "code",
      "source": [
        "# can run diffrent print statements together\n",
        "print('hello')\n",
        "print('world') # reason is end='/n'"
      ],
      "metadata": {
        "colab": {
          "base_uri": "https://localhost:8080/"
        },
        "id": "T4UfsWopIhgU",
        "outputId": "fafca856-3f10-48f6-fc42-31c2031f9466"
      },
      "execution_count": 51,
      "outputs": [
        {
          "output_type": "stream",
          "name": "stdout",
          "text": [
            "hello\n",
            "world\n"
          ]
        }
      ]
    },
    {
      "cell_type": "code",
      "source": [
        "# overwriting end='/n'\n",
        "print('hello',end='-')\n",
        "print('world')"
      ],
      "metadata": {
        "colab": {
          "base_uri": "https://localhost:8080/"
        },
        "id": "kZWYYonPQVfq",
        "outputId": "15ede91f-80c1-41b3-e74d-8c84b1cf75b5"
      },
      "execution_count": 52,
      "outputs": [
        {
          "output_type": "stream",
          "name": "stdout",
          "text": [
            "hello-world\n"
          ]
        }
      ]
    },
    {
      "cell_type": "markdown",
      "source": [
        "# 2. **Data Type**"
      ],
      "metadata": {
        "id": "bpzzBE8yGQ6B"
      }
    },
    {
      "cell_type": "code",
      "source": [
        "# Integer\n",
        "print(8)\n",
        "# python can handle large integers upto 1e309 (1*10^309)\n",
        "print (1e309)"
      ],
      "metadata": {
        "colab": {
          "base_uri": "https://localhost:8080/"
        },
        "id": "OwCCvmrZGV-I",
        "outputId": "a64cac51-cef1-4510-fe77-dbceeaf11694"
      },
      "execution_count": 53,
      "outputs": [
        {
          "output_type": "stream",
          "name": "stdout",
          "text": [
            "8\n",
            "inf\n"
          ]
        }
      ]
    },
    {
      "cell_type": "code",
      "source": [
        "# Float/Decimal\n",
        "print(9.57)\n",
        "# python can handle decimals upto 1.7e309\n",
        "print(1.7e309)"
      ],
      "metadata": {
        "colab": {
          "base_uri": "https://localhost:8080/"
        },
        "id": "XlIs90NXSPpb",
        "outputId": "8d876a67-96f7-4615-e2ec-e238aea2002b"
      },
      "execution_count": 54,
      "outputs": [
        {
          "output_type": "stream",
          "name": "stdout",
          "text": [
            "9.57\n",
            "inf\n"
          ]
        }
      ]
    },
    {
      "cell_type": "code",
      "source": [
        "# Boolean True or False\n",
        "print(True)        # Used to built logic\n",
        "print(False)"
      ],
      "metadata": {
        "colab": {
          "base_uri": "https://localhost:8080/"
        },
        "id": "DXUVOkOUSesb",
        "outputId": "16c74cb4-dbc8-45b4-9d97-fcff8f576d93"
      },
      "execution_count": 55,
      "outputs": [
        {
          "output_type": "stream",
          "name": "stdout",
          "text": [
            "True\n",
            "False\n"
          ]
        }
      ]
    },
    {
      "cell_type": "code",
      "source": [
        "# Text/String\n",
        "print('Hello! World')"
      ],
      "metadata": {
        "colab": {
          "base_uri": "https://localhost:8080/"
        },
        "id": "yWg6Vw_ES0ri",
        "outputId": "426a9a5c-ac24-4dad-8da9-3d8756d89978"
      },
      "execution_count": 56,
      "outputs": [
        {
          "output_type": "stream",
          "name": "stdout",
          "text": [
            "Hello! World\n"
          ]
        }
      ]
    },
    {
      "cell_type": "code",
      "source": [
        "# Complex Number\n",
        "print(5+6j)        # One is real part and one is imaginary part"
      ],
      "metadata": {
        "colab": {
          "base_uri": "https://localhost:8080/"
        },
        "id": "ZSglUf5mTEnp",
        "outputId": "74a98df6-d4b9-4feb-a01a-9a89bc63a6fc"
      },
      "execution_count": 58,
      "outputs": [
        {
          "output_type": "stream",
          "name": "stdout",
          "text": [
            "(5+6j)\n"
          ]
        }
      ]
    },
    {
      "cell_type": "code",
      "source": [
        "# List-> C-> Array\n",
        "print([1,2,3,4,5])"
      ],
      "metadata": {
        "colab": {
          "base_uri": "https://localhost:8080/"
        },
        "id": "T-xq-sgTTUyc",
        "outputId": "6ae03b5f-1961-4fff-c018-00b4d0e14867"
      },
      "execution_count": 57,
      "outputs": [
        {
          "output_type": "stream",
          "name": "stdout",
          "text": [
            "[1, 2, 3, 4, 5]\n"
          ]
        }
      ]
    },
    {
      "cell_type": "code",
      "source": [
        "# Tuple\n",
        "print((1,2,3,4,5))"
      ],
      "metadata": {
        "colab": {
          "base_uri": "https://localhost:8080/"
        },
        "id": "4qzmv_Y6Ti6a",
        "outputId": "849623a2-7162-4a27-f486-3417ab844d07"
      },
      "execution_count": 59,
      "outputs": [
        {
          "output_type": "stream",
          "name": "stdout",
          "text": [
            "(1, 2, 3, 4, 5)\n"
          ]
        }
      ]
    },
    {
      "cell_type": "code",
      "source": [
        "# Sets\n",
        "print({1,2,3,4,5})"
      ],
      "metadata": {
        "colab": {
          "base_uri": "https://localhost:8080/"
        },
        "id": "YK1L9Cz1TzMU",
        "outputId": "1396ae63-f522-4dc4-faf7-db4377d98ad8"
      },
      "execution_count": 8,
      "outputs": [
        {
          "output_type": "stream",
          "name": "stdout",
          "text": [
            "{1, 2, 3, 4, 5}\n"
          ]
        }
      ]
    },
    {
      "cell_type": "code",
      "source": [
        "# Dictionary\n",
        "print({'name':'Aqsa','gender': 'Male','weight': 65})"
      ],
      "metadata": {
        "colab": {
          "base_uri": "https://localhost:8080/"
        },
        "id": "d2nEnVL4UB4Z",
        "outputId": "8e19ea22-c45e-4452-e657-bb876512fdd2"
      },
      "execution_count": 60,
      "outputs": [
        {
          "output_type": "stream",
          "name": "stdout",
          "text": [
            "{'name': 'Aqsa', 'gender': 'Male', 'weight': 65}\n"
          ]
        }
      ]
    },
    {
      "cell_type": "code",
      "source": [
        "#Type\n",
        "type(2)         #way to detect datatype"
      ],
      "metadata": {
        "colab": {
          "base_uri": "https://localhost:8080/"
        },
        "id": "Lk02w4rwnBG0",
        "outputId": "e0d606b1-6751-48f2-9b91-0cde01c8d2b7"
      },
      "execution_count": 61,
      "outputs": [
        {
          "output_type": "execute_result",
          "data": {
            "text/plain": [
              "int"
            ]
          },
          "metadata": {},
          "execution_count": 61
        }
      ]
    },
    {
      "cell_type": "markdown",
      "source": [
        "# 3. **Variables**\n",
        " * Containers to store information\n",
        " * the value varies , because programmer doesn't know the future use"
      ],
      "metadata": {
        "id": "Fsx80K4wnRcm"
      }
    },
    {
      "cell_type": "code",
      "source": [
        "# static vs dyamic typing\n",
        "# static vs dyamic typing\n",
        "# stylish declaration techniques"
      ],
      "metadata": {
        "id": "S1voixBanOOp"
      },
      "execution_count": 11,
      "outputs": []
    },
    {
      "cell_type": "code",
      "source": [
        "#STATIC TYPING\n",
        "# C/C++ variable defining\n",
        "#int (name) ='Aqsa'\n",
        "\n",
        "# in python\n",
        "name = 'Aqsa'\n",
        "print(name)\n",
        "\n",
        "a =10\n",
        "b =19\n",
        "print(a+b)    # in python we don't need to define variables as such , at the top"
      ],
      "metadata": {
        "colab": {
          "base_uri": "https://localhost:8080/"
        },
        "collapsed": true,
        "id": "_fW7QV15n78n",
        "outputId": "6466adda-bc35-4aec-ae60-cc1a62734d36"
      },
      "execution_count": 64,
      "outputs": [
        {
          "output_type": "stream",
          "name": "stdout",
          "text": [
            "Aqsa\n",
            "29\n"
          ]
        }
      ]
    },
    {
      "cell_type": "code",
      "source": [
        "# Dynamic Typing\n",
        "a = 5   # in py , pythons interpreter is intelligent enough to understand the\n",
        "        # datatype of the varible so defining rqd.\n",
        "\n",
        "# Static typing\n",
        "int a = 5   #in c/c++\n"
      ],
      "metadata": {
        "colab": {
          "base_uri": "https://localhost:8080/",
          "height": 105
        },
        "collapsed": true,
        "id": "9Ch2RaJspLCA",
        "outputId": "f3c943c6-3acf-4708-b8a9-b8ff277dd5f3"
      },
      "execution_count": 65,
      "outputs": [
        {
          "output_type": "error",
          "ename": "SyntaxError",
          "evalue": "invalid syntax (ipython-input-3101933980.py, line 6)",
          "traceback": [
            "\u001b[0;36m  File \u001b[0;32m\"/tmp/ipython-input-3101933980.py\"\u001b[0;36m, line \u001b[0;32m6\u001b[0m\n\u001b[0;31m    int a = 5   #in c/c++\u001b[0m\n\u001b[0m        ^\u001b[0m\n\u001b[0;31mSyntaxError\u001b[0m\u001b[0;31m:\u001b[0m invalid syntax\n"
          ]
        }
      ]
    },
    {
      "cell_type": "code",
      "source": [
        "# Dynamic Binding\n",
        "a = 5\n",
        "print(a)\n",
        "\n",
        "a = 'aqsa'\n",
        "print (a)    #in py the value of variable defined can be anything\n",
        "              and a variable defined in python can store diffrent\n",
        "              datatypes in same prog."
      ],
      "metadata": {
        "id": "fWkSM3Dyq0t1"
      },
      "execution_count": null,
      "outputs": []
    },
    {
      "cell_type": "code",
      "source": [
        "# Static Binding\n",
        "int a = 5     #value is same throughout the code"
      ],
      "metadata": {
        "id": "VVrkz8_1rH6d"
      },
      "execution_count": null,
      "outputs": []
    },
    {
      "cell_type": "code",
      "source": [
        "# Stylish declaration techniques\n",
        "a = 1\n",
        "b = 2\n",
        "c = 3\n",
        "print(a,b,c)"
      ],
      "metadata": {
        "id": "r2sIiY6brt1Q"
      },
      "execution_count": null,
      "outputs": []
    },
    {
      "cell_type": "code",
      "source": [
        "a,b,c=1,2,3\n",
        "print(a,b,c)\n"
      ],
      "metadata": {
        "id": "MRFX50h5sDRc"
      },
      "execution_count": null,
      "outputs": []
    },
    {
      "cell_type": "code",
      "source": [
        "a=b=c = 5\n",
        "print(a,b,c)"
      ],
      "metadata": {
        "id": "KknWPiAHsTNz"
      },
      "execution_count": null,
      "outputs": []
    },
    {
      "cell_type": "markdown",
      "source": [
        "# 4. **Comments**"
      ],
      "metadata": {
        "id": "H7dUaDgWtNIS"
      }
    },
    {
      "cell_type": "code",
      "source": [
        "# in companies comments are written on top\n",
        "a = 5\n",
        "b = 6             #this is comment and py will ignore this\n",
        "print (a+b)"
      ],
      "metadata": {
        "id": "_ogibb2rL6Vq"
      },
      "execution_count": null,
      "outputs": []
    },
    {
      "cell_type": "markdown",
      "source": [
        "5. # **Keywords**\n",
        "* Keywords are the words reserved by the compiler to understand the code futhur conv into binary\n",
        "* 32 keywords in py\n",
        "* Don't use keyword names as variables in the code to avoid confusion\n",
        "\n"
      ],
      "metadata": {
        "id": "CnooXa9xtFK1"
      }
    },
    {
      "cell_type": "markdown",
      "source": [
        "# **Identifiers**\n",
        "As a programmer the name we allot in a program is called an identifier (name creation)\n",
        "\n",
        "**RULES:**\n",
        "* don't start with a digit\n",
        "* can use upp, low case but in  \n",
        "  special chars only use'_'\n",
        "* identifiers cannot be keywords\n",
        "\n"
      ],
      "metadata": {
        "id": "vMdxzqKfL91Z"
      }
    },
    {
      "cell_type": "code",
      "source": [
        "# not starting with digits\n",
        "name1 ='Aqsa'       #start with a string\n",
        "print(name1)\n",
        "\n",
        "#using underscore\n",
        "_ = 'Aqsa'\n",
        "print(_)"
      ],
      "metadata": {
        "id": "xIVh7BHZMldP"
      },
      "execution_count": null,
      "outputs": []
    },
    {
      "cell_type": "markdown",
      "source": [
        "# 5. **User Input**\n",
        "\n",
        "Static software:  user only takes info\n",
        "\n",
        "Dynamic software:\n",
        "\n"
      ],
      "metadata": {
        "id": "lO_ScFZIOjCS"
      }
    },
    {
      "cell_type": "code",
      "source": [
        "# static\n",
        "input('Enter Email')\n",
        "print(input)"
      ],
      "metadata": {
        "colab": {
          "base_uri": "https://localhost:8080/"
        },
        "id": "w_2V1oD8OoGQ",
        "outputId": "22271bfa-8d57-4009-a0ae-629fde407fa4"
      },
      "execution_count": 40,
      "outputs": [
        {
          "output_type": "stream",
          "name": "stdout",
          "text": [
            "Enter Emailaqsahamdani09@gmail.com\n",
            "<bound method Kernel.raw_input of <google.colab._kernel.Kernel object at 0x788e183a89b0>>\n"
          ]
        }
      ]
    },
    {
      "cell_type": "markdown",
      "source": [
        "# **Program 1 :**"
      ],
      "metadata": {
        "id": "LXL2KwO1YNVj"
      }
    },
    {
      "cell_type": "markdown",
      "source": [
        "while taking input from user python stores datatypes in strings because string the universal data format."
      ],
      "metadata": {
        "id": "VC_4NjJlY4LC"
      }
    },
    {
      "cell_type": "code",
      "source": [
        "# take input from users and store them in variable\n",
        "fnum = input('enter first number')\n",
        "snum = input('enter second number')\n",
        "print(type (fnum),type(snum))\n",
        "#add the 2 variables\n",
        "result = int(fnum)+ int(snum)\n",
        "#print the result\n",
        "print(result)\n",
        "print(type(fnum))"
      ],
      "metadata": {
        "colab": {
          "base_uri": "https://localhost:8080/"
        },
        "id": "naRmiqU-TDly",
        "outputId": "5db63831-075f-43b7-970e-dd613ca07a34"
      },
      "execution_count": 38,
      "outputs": [
        {
          "output_type": "stream",
          "name": "stdout",
          "text": [
            "enter first number5\n",
            "enter second number2\n",
            "<class 'str'> <class 'str'>\n",
            "7\n",
            "<class 'str'>\n"
          ]
        }
      ]
    },
    {
      "cell_type": "markdown",
      "source": [
        "# **6. Type Conversion**\n",
        "\n",
        "* Implicit : operation over diffrent datatypes and py allows it as it's mathematically possible.\n",
        "* Explicit:\n"
      ],
      "metadata": {
        "id": "LK6_X5l7ZMSK"
      }
    },
    {
      "cell_type": "code",
      "source": [
        "# implicit\n",
        "print(5+5.6)\n",
        "print (type(5), type(5.6))"
      ],
      "metadata": {
        "colab": {
          "base_uri": "https://localhost:8080/"
        },
        "id": "QZRim_btYRZp",
        "outputId": "9bb75e48-5a45-453e-ce7a-a193b4274eba"
      },
      "execution_count": 13,
      "outputs": [
        {
          "output_type": "stream",
          "name": "stdout",
          "text": [
            "10.6\n",
            "<class 'int'> <class 'float'>\n"
          ]
        }
      ]
    },
    {
      "cell_type": "code",
      "source": [
        "# Explicit\n",
        "print(4 + '4') # py doesn't convert here"
      ],
      "metadata": {
        "colab": {
          "base_uri": "https://localhost:8080/",
          "height": 156
        },
        "collapsed": true,
        "id": "kmZX6LJ6adfK",
        "outputId": "9e77e391-a52e-4142-a052-4109275ecdf8"
      },
      "execution_count": 14,
      "outputs": [
        {
          "output_type": "error",
          "ename": "TypeError",
          "evalue": "unsupported operand type(s) for +: 'int' and 'str'",
          "traceback": [
            "\u001b[0;31m---------------------------------------------------------------------------\u001b[0m",
            "\u001b[0;31mTypeError\u001b[0m                                 Traceback (most recent call last)",
            "\u001b[0;32m/tmp/ipython-input-142325129.py\u001b[0m in \u001b[0;36m<cell line: 0>\u001b[0;34m()\u001b[0m\n\u001b[1;32m      1\u001b[0m \u001b[0;31m# Explicit\u001b[0m\u001b[0;34m\u001b[0m\u001b[0;34m\u001b[0m\u001b[0m\n\u001b[0;32m----> 2\u001b[0;31m \u001b[0mprint\u001b[0m\u001b[0;34m(\u001b[0m\u001b[0;36m4\u001b[0m\u001b[0;34m+\u001b[0m \u001b[0;34m'4'\u001b[0m\u001b[0;34m)\u001b[0m \u001b[0;31m# py doesn't convert here\u001b[0m\u001b[0;34m\u001b[0m\u001b[0;34m\u001b[0m\u001b[0m\n\u001b[0m",
            "\u001b[0;31mTypeError\u001b[0m: unsupported operand type(s) for +: 'int' and 'str'"
          ]
        }
      ]
    },
    {
      "cell_type": "code",
      "source": [
        "# Explict type conversion (programmer)\n",
        "# ex: str-> int\n",
        "\n",
        "int('4')\n",
        "int(float('4.5'))\n",
        "\n",
        "#int('4+5j)          #doesn't convert , if want to can conv furthur\n",
        "\n"
      ],
      "metadata": {
        "colab": {
          "base_uri": "https://localhost:8080/"
        },
        "id": "PE1qGyuAape6",
        "outputId": "9356367b-caa9-4dd0-be9f-932ce6bc7483"
      },
      "execution_count": 15,
      "outputs": [
        {
          "output_type": "execute_result",
          "data": {
            "text/plain": [
              "4"
            ]
          },
          "metadata": {},
          "execution_count": 15
        }
      ]
    },
    {
      "cell_type": "markdown",
      "source": [
        "# **7. Literals**\n",
        "\n",
        "* Any raw value store in a variable.\n",
        "\n",
        "* Diffent ways to set literals"
      ],
      "metadata": {
        "id": "8KJlCc7Dg-xw"
      }
    },
    {
      "cell_type": "code",
      "source": [
        "# Binary Literals\n",
        "a = 0b1010\n",
        "print(a)"
      ],
      "metadata": {
        "colab": {
          "base_uri": "https://localhost:8080/"
        },
        "id": "b5Zj2C3ahaVk",
        "outputId": "e6b33f20-4a44-480c-8be2-a506cc5220b1"
      },
      "execution_count": 16,
      "outputs": [
        {
          "output_type": "stream",
          "name": "stdout",
          "text": [
            "10\n"
          ]
        }
      ]
    },
    {
      "cell_type": "code",
      "source": [
        "# Decimal Literals\n",
        "b = 100\n",
        "print(b)"
      ],
      "metadata": {
        "colab": {
          "base_uri": "https://localhost:8080/"
        },
        "id": "St1ZQChRhod6",
        "outputId": "412f018b-aad0-409e-a1b3-24c4ef1a08fe"
      },
      "execution_count": 17,
      "outputs": [
        {
          "output_type": "stream",
          "name": "stdout",
          "text": [
            "100\n"
          ]
        }
      ]
    },
    {
      "cell_type": "code",
      "source": [
        "# Octal Literals\n",
        "c = 0o310 # this is the octal rep of 200\n",
        "print(c)"
      ],
      "metadata": {
        "colab": {
          "base_uri": "https://localhost:8080/"
        },
        "id": "4MQjmJx0hvvD",
        "outputId": "718492aa-dcae-4b4a-fe85-5804ec05b6aa"
      },
      "execution_count": 18,
      "outputs": [
        {
          "output_type": "stream",
          "name": "stdout",
          "text": [
            "200\n"
          ]
        }
      ]
    },
    {
      "cell_type": "code",
      "source": [
        "# Hexadecimal Literal\n",
        "d =0x12c\n",
        "print(d)"
      ],
      "metadata": {
        "colab": {
          "base_uri": "https://localhost:8080/"
        },
        "id": "jM4UEM9KiGEw",
        "outputId": "58ea99af-79e2-4f3d-b1b1-1076438dd491"
      },
      "execution_count": 19,
      "outputs": [
        {
          "output_type": "stream",
          "name": "stdout",
          "text": [
            "300\n"
          ]
        }
      ]
    },
    {
      "cell_type": "code",
      "source": [
        "# Float Literals ( convienent to rep very small and big numbers)\n",
        "float_1 = 10.5\n",
        "float_2 = 1.5e3   #1.5*10^3\n",
        "float_3 = 1.5e-3  #1.5*10^-3\n",
        "print(float_1,float_2,float_3)"
      ],
      "metadata": {
        "colab": {
          "base_uri": "https://localhost:8080/"
        },
        "id": "ZjjFkxPXifdP",
        "outputId": "00637c36-bee9-4dc2-d713-3ada45321ea3"
      },
      "execution_count": 20,
      "outputs": [
        {
          "output_type": "stream",
          "name": "stdout",
          "text": [
            "10.5 1500.0 0.0015\n"
          ]
        }
      ]
    },
    {
      "cell_type": "code",
      "source": [
        "# Complex literals\n",
        "x = 3.14j\n",
        "print(x,x.imag,x.real)\n"
      ],
      "metadata": {
        "colab": {
          "base_uri": "https://localhost:8080/"
        },
        "id": "wBPDVlb_jdmU",
        "outputId": "84a0019d-22c5-48ee-9eac-bd6d05b7ca0b"
      },
      "execution_count": 21,
      "outputs": [
        {
          "output_type": "stream",
          "name": "stdout",
          "text": [
            "3.14j 3.14 0.0\n"
          ]
        }
      ]
    },
    {
      "cell_type": "markdown",
      "source": [
        "**Giving values to strings**"
      ],
      "metadata": {
        "id": "zw2UN40PkKvm"
      }
    },
    {
      "cell_type": "code",
      "source": [
        "# string with single commas\n",
        "string = 'This is python'\n",
        "print (string)"
      ],
      "metadata": {
        "colab": {
          "base_uri": "https://localhost:8080/"
        },
        "id": "r4anUlxTlfd_",
        "outputId": "26afa557-9007-4293-e416-75a5a2babdee"
      },
      "execution_count": 22,
      "outputs": [
        {
          "output_type": "stream",
          "name": "stdout",
          "text": [
            "This is python\n"
          ]
        }
      ]
    },
    {
      "cell_type": "code",
      "source": [
        "# string with double commas\n",
        "string = \"This is python\"\n",
        "print(string)\n"
      ],
      "metadata": {
        "colab": {
          "base_uri": "https://localhost:8080/"
        },
        "id": "7cv9iJNQlqPm",
        "outputId": "d3e0a405-ee89-437b-97bf-42f057374207"
      },
      "execution_count": 23,
      "outputs": [
        {
          "output_type": "stream",
          "name": "stdout",
          "text": [
            "This is python\n"
          ]
        }
      ]
    },
    {
      "cell_type": "code",
      "source": [
        "# char\n",
        "char =\"C\"\n",
        "print(char)"
      ],
      "metadata": {
        "colab": {
          "base_uri": "https://localhost:8080/"
        },
        "id": "VPESBGFClv8e",
        "outputId": "578d6978-2c9d-4d15-9960-d58ecaf47c0b"
      },
      "execution_count": 24,
      "outputs": [
        {
          "output_type": "stream",
          "name": "stdout",
          "text": [
            "C\n"
          ]
        }
      ]
    },
    {
      "cell_type": "code",
      "source": [
        "# multiline\n",
        "multiline_str = \"\"\" This is multi string with more than one line code\"\"\"\n",
        "print(multiline_str)"
      ],
      "metadata": {
        "colab": {
          "base_uri": "https://localhost:8080/"
        },
        "id": "8BosTk18lymb",
        "outputId": "c3bed874-b963-41a5-c7d1-ed66fb79a15a"
      },
      "execution_count": 25,
      "outputs": [
        {
          "output_type": "stream",
          "name": "stdout",
          "text": [
            " This is multi string with more than one line code\n"
          ]
        }
      ]
    },
    {
      "cell_type": "code",
      "source": [
        "# Unicode\n",
        "unicode = u\"\\U0001f600\\U0001F606\\U0001F923\"\n",
        "print(unicode)\n"
      ],
      "metadata": {
        "colab": {
          "base_uri": "https://localhost:8080/"
        },
        "id": "SU_zyu28mDwF",
        "outputId": "69a2bc76-c5ed-4a74-b849-d60d5f79adb0"
      },
      "execution_count": 26,
      "outputs": [
        {
          "output_type": "stream",
          "name": "stdout",
          "text": [
            "😀😆🤣\n"
          ]
        }
      ]
    },
    {
      "cell_type": "code",
      "source": [
        "# raw\n",
        "raw_str = r\"raw\\n string\"\n",
        "print (raw_str)"
      ],
      "metadata": {
        "colab": {
          "base_uri": "https://localhost:8080/"
        },
        "id": "tQwM0ao9mSXx",
        "outputId": "a1930a67-582d-46e4-b2d0-c02bd32f4eb5"
      },
      "execution_count": 27,
      "outputs": [
        {
          "output_type": "stream",
          "name": "stdout",
          "text": [
            "raw\\n string\n"
          ]
        }
      ]
    },
    {
      "cell_type": "code",
      "source": [
        "# Boolean\n",
        "a = True + 4\n",
        "b = False + 19\n",
        "print (\"a:\", a)\n",
        "print (\"b:\", b)"
      ],
      "metadata": {
        "colab": {
          "base_uri": "https://localhost:8080/"
        },
        "id": "KSR7adQHmpgj",
        "outputId": "92d8c5fe-ad21-4f00-83c9-2566ddc83b5c"
      },
      "execution_count": 28,
      "outputs": [
        {
          "output_type": "stream",
          "name": "stdout",
          "text": [
            "a: 5\n",
            "b: 19\n"
          ]
        }
      ]
    },
    {
      "cell_type": "code",
      "source": [
        "# None\n",
        "a = None\n",
        "print (a)\n"
      ],
      "metadata": {
        "colab": {
          "base_uri": "https://localhost:8080/"
        },
        "id": "TeKmHCPNoC5O",
        "outputId": "6df5ae11-f431-42d3-bfee-fa80fe06c17c"
      },
      "execution_count": 29,
      "outputs": [
        {
          "output_type": "stream",
          "name": "stdout",
          "text": [
            "None\n"
          ]
        }
      ]
    },
    {
      "cell_type": "code",
      "source": [
        "# example\n",
        "k = None      #no variable declaration in python, use and make\n",
        "a = 5\n",
        "b = 6\n",
        "print('program execution')"
      ],
      "metadata": {
        "colab": {
          "base_uri": "https://localhost:8080/"
        },
        "id": "ATnE4oeAnJ1n",
        "outputId": "faa3d17c-25b2-48a9-a31d-d97d23ae38d4"
      },
      "execution_count": 30,
      "outputs": [
        {
          "output_type": "stream",
          "name": "stdout",
          "text": [
            "program execution\n"
          ]
        }
      ]
    },
    {
      "cell_type": "markdown",
      "source": [
        "# **8. Operators**\n",
        "\n",
        "Performing changes on two operants or performing operation on two operants,\n",
        "the sign used is called operators.\n",
        "\n",
        "**DIFFERENT TYPES:**\n",
        "\n",
        "* Arithmetic Operators\n",
        "* Relational Operators\n",
        "* Logical Operators\n",
        "* Bitwise Operators\n",
        "* Assignment Operators\n",
        "* Membership Operators"
      ],
      "metadata": {
        "id": "PfTbSdEIny1O"
      }
    },
    {
      "cell_type": "code",
      "source": [
        "# Arithmetic Operators\n",
        "\n",
        "print (2+4)\n",
        "print(9-2)\n",
        "print(5*10)\n",
        "print(6/5)\n",
        "print(5//2)    # integer division op, conv decimal into int\n",
        "print(5%2)     # Modulus Operator, divides and gives remainder\n",
        "print(5**2)    # power Operator only in py, says: 5 to the power 2"
      ],
      "metadata": {
        "colab": {
          "base_uri": "https://localhost:8080/"
        },
        "id": "KFILwPxUTfgI",
        "outputId": "70cd0f08-bece-4c0c-f74e-6103b8a22f05"
      },
      "execution_count": 31,
      "outputs": [
        {
          "output_type": "stream",
          "name": "stdout",
          "text": [
            "6\n",
            "7\n",
            "50\n",
            "1.2\n",
            "2\n",
            "1\n",
            "25\n"
          ]
        }
      ]
    },
    {
      "cell_type": "code",
      "source": [
        "# Relational Operators, used for comparing\n",
        "\n",
        "print(4>5)\n",
        "print(4<5)\n",
        "print(4>=4)\n",
        "print(4<=4)\n",
        "print(4==4)\n",
        "print"
      ],
      "metadata": {
        "colab": {
          "base_uri": "https://localhost:8080/"
        },
        "id": "Zq7thGG2UOMx",
        "outputId": "f205aed9-be0b-4e7d-8e12-ced395a15a2c"
      },
      "execution_count": 32,
      "outputs": [
        {
          "output_type": "stream",
          "name": "stdout",
          "text": [
            "False\n",
            "True\n",
            "True\n",
            "True\n",
            "True\n"
          ]
        },
        {
          "output_type": "execute_result",
          "data": {
            "text/plain": [
              "<function print(*args, sep=' ', end='\\n', file=None, flush=False)>"
            ]
          },
          "metadata": {},
          "execution_count": 32
        }
      ]
    },
    {
      "cell_type": "code",
      "source": [
        "# Logical Operators\n",
        "\n",
        "# AND : both should be 1 to get an output\n",
        "print(1 and 0)\n",
        "print(1 and 1)\n",
        "\n",
        "# OR: any one should be 1 to get an output\n",
        "print (1 or 0)\n",
        "\n",
        "# NOT: it makes 1 to 0 and 0 to 1\n",
        "print (not 1 )      # in py 0 = False\n"
      ],
      "metadata": {
        "colab": {
          "base_uri": "https://localhost:8080/"
        },
        "id": "3sH_-tz0VuVS",
        "outputId": "f1a0248e-bbc5-481d-a520-ad62e6fb2e24"
      },
      "execution_count": 33,
      "outputs": [
        {
          "output_type": "stream",
          "name": "stdout",
          "text": [
            "0\n",
            "1\n",
            "1\n",
            "False\n"
          ]
        }
      ]
    },
    {
      "cell_type": "markdown",
      "source": [],
      "metadata": {
        "id": "cp4RsWLXiCRl"
      }
    },
    {
      "cell_type": "code",
      "source": [
        "# Bitwise Operators : special op's  work on binary values\n",
        "\n",
        "# bitwise AND  operator\n",
        "print(2 & 3)            #& : ampersand\n",
        "\n",
        "# bitwise OR operator\n",
        "print(2 | 3)\n",
        "\n",
        "# bitwise XOR          XOR: if both are same you get 0, and diff get 1\n",
        "print (2 ^ 3)\n",
        "\n",
        "# bitwise NOT\n",
        "print(~3)\n",
        "\n",
        "# bitwise left shift\n",
        "print(4 >> 2)\n",
        "\n",
        "# bitwise right shift\n",
        "print(4 << 2 )\n",
        "\n",
        "## bitwise op's are not used in normal programming or data science, it can be\n",
        "## used in the image processing or computer vision projects , exclusively\n",
        "## bitwise AND , OR"
      ],
      "metadata": {
        "colab": {
          "base_uri": "https://localhost:8080/"
        },
        "id": "A2Cza_UqWt_f",
        "outputId": "71db6f98-33fd-440d-9a39-ac5c2046a0d0"
      },
      "execution_count": 34,
      "outputs": [
        {
          "output_type": "stream",
          "name": "stdout",
          "text": [
            "2\n",
            "3\n",
            "1\n",
            "-4\n",
            "1\n",
            "16\n"
          ]
        }
      ]
    },
    {
      "cell_type": "code",
      "source": [
        "# Assignment Operators\n",
        "\n",
        "# Equal to is an assignment operator\n",
        "a = 2\n",
        "# a = a + 2 : meaning of below code\n",
        "a += 2\n",
        "print(a)\n",
        "\n",
        "a = 2\n",
        "# a = a % 2\n",
        "a %=2\n",
        "print(a)\n",
        "\n",
        "##a++ == a : not allowed in py"
      ],
      "metadata": {
        "colab": {
          "base_uri": "https://localhost:8080/"
        },
        "id": "6AsF6UjLYIpM",
        "outputId": "63aff8ae-3282-45f4-b7e8-ec4268be8ec9"
      },
      "execution_count": 35,
      "outputs": [
        {
          "output_type": "stream",
          "name": "stdout",
          "text": [
            "4\n",
            "0\n"
          ]
        }
      ]
    },
    {
      "cell_type": "code",
      "source": [
        "# Membership Operators : in a  given value another value is present or not\n",
        "\n",
        "# in\n",
        "\n",
        "print('D' in 'Delhi')\n",
        "\n",
        "# not in\n",
        "print ('i' not in 'icecream')\n",
        "\n",
        "print('1' in '2,3,4,5')\n",
        "\n",
        "##built-in in python , no need to run loop as is the case in other lang's.\n",
        "## works on list, ses,tupels, dict"
      ],
      "metadata": {
        "colab": {
          "base_uri": "https://localhost:8080/"
        },
        "id": "ApE31a6LdBB7",
        "outputId": "252d446d-3941-4dda-a8b8-5dfdf777f6c8"
      },
      "execution_count": 36,
      "outputs": [
        {
          "output_type": "stream",
          "name": "stdout",
          "text": [
            "True\n",
            "False\n",
            "False\n"
          ]
        }
      ]
    },
    {
      "cell_type": "markdown",
      "source": [
        "# **Program : 2**"
      ],
      "metadata": {
        "id": "QK9lajV-e7tI"
      }
    },
    {
      "cell_type": "code",
      "source": [
        "# Program -Find the sum of 3- digit number entered by the user\n",
        "\n",
        "number = int(input('Enter a 3 digit number'))\n",
        "print (number)\n",
        "\n",
        "# we will extract numbers from 3 digit 345 from backside\n",
        "\n",
        "# 345 % 10 -> 5\n",
        "a = number % 10\n",
        "number = number//10\n",
        "\n",
        "# 34 % 10 -> 4\n",
        "b = number % 10\n",
        "number = number//10\n",
        "\n",
        "# 3 % 10 -> 3\n",
        "c = number % 10\n",
        "\n",
        "print(a+b+c)\n"
      ],
      "metadata": {
        "colab": {
          "base_uri": "https://localhost:8080/"
        },
        "id": "6btE0R3DiPqB",
        "outputId": "efc58ccf-3e3f-4f22-b359-18e92588ffa5"
      },
      "execution_count": 44,
      "outputs": [
        {
          "output_type": "stream",
          "name": "stdout",
          "text": [
            "Enter a 3 digit number345\n",
            "345\n",
            "12\n"
          ]
        }
      ]
    }
  ]
}