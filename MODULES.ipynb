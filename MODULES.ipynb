{
  "nbformat": 4,
  "nbformat_minor": 0,
  "metadata": {
    "colab": {
      "provenance": [],
      "authorship_tag": "ABX9TyOGTzgSJ3Fsr8L9IJM+aUao",
      "include_colab_link": true
    },
    "kernelspec": {
      "name": "python3",
      "display_name": "Python 3"
    },
    "language_info": {
      "name": "python"
    }
  },
  "cells": [
    {
      "cell_type": "markdown",
      "metadata": {
        "id": "view-in-github",
        "colab_type": "text"
      },
      "source": [
        "<a href=\"https://colab.research.google.com/github/AqsaH999/python-data-science-journey/blob/main/MODULES.ipynb\" target=\"_parent\"><img src=\"https://colab.research.google.com/assets/colab-badge.svg\" alt=\"Open In Colab\"/></a>"
      ]
    },
    {
      "cell_type": "markdown",
      "source": [
        "# **MODULES:**\n",
        "* Used widely in data science code\n",
        "\n",
        "* header file in c (stdio.h) is module\n",
        "in python.\n",
        "\n",
        "* it is a file with functions , a user can import the file in his own code to use these functions.\n",
        "This is code readibility in py.\n",
        "\n",
        "* Modules = Libraries\n",
        "\n",
        "\n",
        "\n"
      ],
      "metadata": {
        "id": "HQGfxvGTJ4y_"
      }
    },
    {
      "cell_type": "code",
      "execution_count": 6,
      "metadata": {
        "colab": {
          "base_uri": "https://localhost:8080/"
        },
        "id": "9TuF4kWRJ1td",
        "outputId": "b239fc01-903c-43d9-fd73-afb1c8823d76"
      },
      "outputs": [
        {
          "output_type": "execute_result",
          "data": {
            "text/plain": [
              "10.0"
            ]
          },
          "metadata": {},
          "execution_count": 6
        }
      ],
      "source": [
        "# math\n",
        "import math\n",
        "\n",
        "#math. #to see fncs\n",
        "\n",
        "math.factorial(5)\n",
        "math.floor(6.7)\n",
        "math.sqrt(100)\n",
        "## code will run and no output will come , hence file imported"
      ]
    },
    {
      "cell_type": "code",
      "source": [
        "# keyword\n",
        "import keyword\n",
        "print(keyword.kwlist)\n"
      ],
      "metadata": {
        "colab": {
          "base_uri": "https://localhost:8080/"
        },
        "id": "01Cw2YjxNby8",
        "outputId": "419dec33-359d-49eb-9af3-c0b97d64d6cc"
      },
      "execution_count": 7,
      "outputs": [
        {
          "output_type": "stream",
          "name": "stdout",
          "text": [
            "['False', 'None', 'True', 'and', 'as', 'assert', 'async', 'await', 'break', 'class', 'continue', 'def', 'del', 'elif', 'else', 'except', 'finally', 'for', 'from', 'global', 'if', 'import', 'in', 'is', 'lambda', 'nonlocal', 'not', 'or', 'pass', 'raise', 'return', 'try', 'while', 'with', 'yield']\n"
          ]
        }
      ]
    },
    {
      "cell_type": "code",
      "source": [
        "# random\n",
        "import random\n",
        "print(random.randint(1,100))\n",
        "\n",
        "## everytime random number will come as an output"
      ],
      "metadata": {
        "colab": {
          "base_uri": "https://localhost:8080/"
        },
        "id": "YuQfd83kORd-",
        "outputId": "20ddf2f4-2d3d-4b8a-8430-63e3010a1beb"
      },
      "execution_count": 13,
      "outputs": [
        {
          "output_type": "stream",
          "name": "stdout",
          "text": [
            "52\n"
          ]
        }
      ]
    },
    {
      "cell_type": "code",
      "source": [
        "# datetime\n",
        "import datetime\n",
        "print(datetime.datetime.now())"
      ],
      "metadata": {
        "colab": {
          "base_uri": "https://localhost:8080/"
        },
        "id": "4o0EFV5ROlZ3",
        "outputId": "24394131-dfa1-42b5-a93e-9c2efcee10ac"
      },
      "execution_count": 14,
      "outputs": [
        {
          "output_type": "stream",
          "name": "stdout",
          "text": [
            "2025-10-08 05:11:45.267390\n"
          ]
        }
      ]
    },
    {
      "cell_type": "code",
      "source": [
        "# help\n",
        "help('modules')"
      ],
      "metadata": {
        "id": "7GgJlM6KSqkc"
      },
      "execution_count": null,
      "outputs": []
    }
  ]
}