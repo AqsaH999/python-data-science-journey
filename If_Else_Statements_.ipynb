{
  "nbformat": 4,
  "nbformat_minor": 0,
  "metadata": {
    "colab": {
      "provenance": [],
      "authorship_tag": "ABX9TyNFzICXVYSxVTnPNbqGUaXF",
      "include_colab_link": true
    },
    "kernelspec": {
      "name": "python3",
      "display_name": "Python 3"
    },
    "language_info": {
      "name": "python"
    }
  },
  "cells": [
    {
      "cell_type": "markdown",
      "metadata": {
        "id": "view-in-github",
        "colab_type": "text"
      },
      "source": [
        "<a href=\"https://colab.research.google.com/github/AqsaH999/python-data-science-journey/blob/main/If_Else_Statements_.ipynb\" target=\"_parent\"><img src=\"https://colab.research.google.com/assets/colab-badge.svg\" alt=\"Open In Colab\"/></a>"
      ]
    },
    {
      "cell_type": "markdown",
      "source": [
        "# **If- Else Statements**\n",
        "\n",
        "If the code had 2 options for execution\n",
        "this situation is called Branching. If -\n",
        "else handels it only.\n",
        "\n",
        "ex : in a website when user enters login and password, it is shown a profile page and\n",
        "if the credentials are wrong use is shown an error . This is handled by if-else statements"
      ],
      "metadata": {
        "id": "mdcEFbQQVrNY"
      }
    },
    {
      "cell_type": "code",
      "execution_count": 13,
      "metadata": {
        "id": "K9eCudWrVqOw",
        "colab": {
          "base_uri": "https://localhost:8080/"
        },
        "outputId": "8ad963a8-b5df-4e08-e1a8-d7be1f161c6a"
      },
      "outputs": [
        {
          "output_type": "stream",
          "name": "stdout",
          "text": [
            "enter emailaqsahamdani09@gmail.com\n",
            "enter password76435\n",
            "Invalid password\n",
            "Enter password again65656\n",
            "You have reached a limit, try again in sometime\n"
          ]
        }
      ],
      "source": [
        "# login program and indentation\n",
        "\n",
        "# Assume email -> aqsahamdani09@gmail.com\n",
        "# password-> 1234\n",
        "\n",
        "email = input('enter email')\n",
        "password = input('enter password')\n",
        "\n",
        "#if-else in python\n",
        "\n",
        "if email == 'aqsahamdani09@gmail.com' and password == '1234':     #1 possibility\n",
        " print('Welcome')\n",
        "\n",
        "elif email == 'aqsahamdani09@gmail.com' and password != '1234':   #2 possibility\n",
        " print('Invalid password')\n",
        " password = input('Enter password again')\n",
        " if password =='1234':                                         # Nested if-else\n",
        "  print('Welcome Finally!!')\n",
        " else:\n",
        "  print('You have reached a limit, try again in sometime')\n",
        "\n",
        "else:\n",
        "  print('Invalid credentials')                                    #3 possibility\n",
        "\n",
        "\n",
        "##if-else code follows indentation and if-else should be vertical to each other\n",
        "## For more than 2 possibiities use elif, first poss if , last poss else, meanwhile\n",
        "##l-if\n",
        "\n"
      ]
    },
    {
      "cell_type": "code",
      "source": [
        "#if -else example\n",
        "\n",
        "# Find the min number of 3 given numbers\n",
        "\n",
        "Num1 =int(input('Enter first number  = '))\n",
        "Num2 =int(input('Enter second number = '))\n",
        "Num3 =int(input('Enter third number  = '))\n",
        "\n",
        "if Num1 < Num2 and Num1 < Num3:\n",
        "  print('Minimun number is, Num1')\n",
        "elif Num2 < Num3:\n",
        "  print('Minimun number is, Num2')\n",
        "elif Num1 == Num2 == Num3:                  # Added this myself\n",
        "    print('All numbers are equal')\n",
        "else:\n",
        "  print('Minimun number is, Num3')\n"
      ],
      "metadata": {
        "colab": {
          "base_uri": "https://localhost:8080/"
        },
        "id": "RDL31oER9_gQ",
        "outputId": "d6be9deb-c143-4996-fad6-72171d3171bb"
      },
      "execution_count": 24,
      "outputs": [
        {
          "output_type": "stream",
          "name": "stdout",
          "text": [
            "Enter first number  = 4\n",
            "Enter second number = 6\n",
            "Enter third number  = 8\n",
            "Minimun number is, Num1\n"
          ]
        }
      ]
    },
    {
      "cell_type": "code",
      "source": [
        "# menu driven calculator\n",
        "# this is a menu driven program\n",
        "fnum = int(input('Enter first number  = '))\n",
        "snum = int(input('Enter second number = '))\n",
        "\n",
        "op = input('Enter the operaion = ')\n",
        "\n",
        "if op == '+':\n",
        "  print(fnum + snum)\n",
        "elif op == '-':\n",
        " print(fnum - snum)\n",
        "elif op == '*':\n",
        "  print(fnum*snum)\n",
        "elif op =='/':\n",
        "  print(fnum/snum)\n",
        "else:\n",
        "  print('Invalid operator')\n"
      ],
      "metadata": {
        "colab": {
          "base_uri": "https://localhost:8080/"
        },
        "id": "uwxaQKaMFiLL",
        "outputId": "3ed944e6-ce8f-4384-88b8-7b9cad345baa"
      },
      "execution_count": 26,
      "outputs": [
        {
          "output_type": "stream",
          "name": "stdout",
          "text": [
            "Enter first number  = 34\n",
            "Enter second number = 90\n",
            "Enter the operaion = /\n",
            "0.37777777777777777\n"
          ]
        }
      ]
    },
    {
      "cell_type": "code",
      "source": [
        "# menu driven ATM\n",
        "\n",
        "menu = input (\"\"\"\n",
        "Hi! How can I help you.\n",
        "1. Enter 1 for balance check\n",
        "2. Enter 2 for pin change\n",
        "3. Enter 3 for withdrawl\n",
        "4. Enter 4 for Exit\n",
        "\"\"\")\n",
        "if menu == '1':\n",
        "  print ('Balane Check')\n",
        "elif menu == '2':\n",
        "  print ('Pin Change')\n",
        "elif menu == '2':\n",
        "  print ('Withdrawl')\n",
        "else:\n",
        "  print('EXIT')\n",
        "\n",
        "  ## not a complete prog, just showing how to make a menu driven prog"
      ],
      "metadata": {
        "colab": {
          "base_uri": "https://localhost:8080/"
        },
        "id": "DEb3TjEfHU-z",
        "outputId": "2cbeb3af-ebeb-44cb-f3da-13e73d7c6ac2"
      },
      "execution_count": 28,
      "outputs": [
        {
          "output_type": "stream",
          "name": "stdout",
          "text": [
            " \n",
            "Hi! How can I help you.\n",
            "1. Enter 1 for balance check\n",
            "2. Enter 2 for pin change\n",
            "3. Enter 3 for withdrawl\n",
            "4. Enter 4 for Exit \n",
            "4\n",
            "EXIT\n"
          ]
        }
      ]
    }
  ]
}